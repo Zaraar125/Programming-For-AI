{
 "cells": [
  {
   "cell_type": "markdown",
   "id": "599d85dd",
   "metadata": {},
   "source": [
    "# Webscrapping 101\n"
   ]
  },
  {
   "cell_type": "markdown",
   "id": "b1d1bea5",
   "metadata": {},
   "source": [
    "Let’s start code by importing the required libraries\n",
    "\n"
   ]
  },
  {
   "cell_type": "code",
   "execution_count": 15,
   "id": "087ff9fd",
   "metadata": {},
   "outputs": [],
   "source": [
    "from selenium import webdriver\n",
    "from bs4 import BeautifulSoup\n",
    "import pandas as pd\n",
    "\n",
    "import time\n",
    "\n",
    "#some more things\n",
    "from selenium.webdriver.chrome.options import Options\n",
    "from selenium.webdriver.common.keys import Keys\n",
    "from webdriver_manager.chrome import ChromeDriverManager\n",
    "from selenium.webdriver.common.by import By\n",
    "from selenium.common.exceptions import NoSuchElementException"
   ]
  },
  {
   "cell_type": "markdown",
   "id": "6bf53501",
   "metadata": {},
   "source": [
    "If your libraries are not installed use !pip3 install selenium .....to install them first."
   ]
  },
  {
   "cell_type": "markdown",
   "id": "8a64dbd0",
   "metadata": {},
   "source": [
    "Now let's automate chacha chrome XD"
   ]
  },
  {
   "cell_type": "code",
   "execution_count": 16,
   "id": "656f381b",
   "metadata": {},
   "outputs": [],
   "source": [
    "url = 'https://twitter.com/husnainhaider_/status/1541732307677085696'\n",
    "url2='https://twitter.com/search?q=%23AhadRazaMir&src=trend_click&vertical=trends'"
   ]
  },
  {
   "cell_type": "code",
   "execution_count": 17,
   "id": "b0183c66",
   "metadata": {},
   "outputs": [
    {
     "name": "stderr",
     "output_type": "stream",
     "text": [
      "[WDM] - \n",
      "\n",
      "[WDM] - ====== WebDriver manager ======\n",
      "[WDM] - Current google-chrome version is 106.0.5249\n",
      "[WDM] - Get LATEST driver version for 106.0.5249\n",
      "[WDM] - Driver [C:\\Users\\HP\\.wdm\\drivers\\chromedriver\\win32\\106.0.5249.61\\chromedriver.exe] found in cache\n",
      "<ipython-input-17-5e35b4a0bf0b>:3: DeprecationWarning: executable_path has been deprecated, please pass in a Service object\n",
      "  driver = webdriver.Chrome(ChromeDriverManager().install(), options=options)\n"
     ]
    }
   ],
   "source": [
    "options = Options()\n",
    "    #options.add_argument(\"--headless\")\n",
    "driver = webdriver.Chrome(ChromeDriverManager().install(), options=options)\n",
    "#this will open an automated chrome browser.\n",
    "driver.get(url2)"
   ]
  },
  {
   "cell_type": "markdown",
   "id": "c6fb6d27",
   "metadata": {},
   "source": [
    "# Selenium"
   ]
  },
  {
   "cell_type": "code",
   "execution_count": 18,
   "id": "80bb4777",
   "metadata": {},
   "outputs": [],
   "source": [
    "data=[]"
   ]
  },
  {
   "cell_type": "code",
   "execution_count": 28,
   "id": "96a11bd2",
   "metadata": {},
   "outputs": [],
   "source": [
    "# //*[@id=\"react-root\"]/div/div/div[2]/main/div/div/div/div[1]/div/div[3]/div/section/div/div/div[7]/div/div/div/article\n",
    "\n",
    "# //*[@id=\"react-root\"]/div/div/div[2]/main/div/div/div/div[1]/div/div[3]/div/section/div/div/div[6]/div/div/div/article\n",
    "\n",
    "# //*[@id=\"react-root\"]/div/div/div[2]/main/div/div/div/div[1]/div/div[3]/div/section/div/div/div[3]/div/div/div/article\n",
    "\n",
    "# //*[@id=\"react-root\"]/div/div/div[2]/main/div/div/div/div[1]/div/div[3]/div/section/div/div/div[3]/div/div/div/article\n",
    "\n",
    "# //*[@id=\"react-root\"]/div/div/div[2]/main/div/div/div/div[1]/div/div[3]/div/section/div/div/div[3]/div/div/div/article"
   ]
  },
  {
   "cell_type": "code",
   "execution_count": 19,
   "id": "f55b4106",
   "metadata": {},
   "outputs": [
    {
     "name": "stdout",
     "output_type": "stream",
     "text": [
      "Absolutely yes Yes Yes Yes \n",
      "#حقیقی_آزادی_لانگ_مارچ \n",
      "Faiz Hameed\n",
      "#عوام_حقیقت_جان_چکی \n",
      "#AhadRazaMir \n",
      "Martial Law\n",
      "General Qamar Javed Bajwa\n",
      "Shahbaz Sharif is a Real American Slaves \n",
      "#حقیقی_آزادی_لانگ_مارچ \n",
      "#عوام_حقیقت_جان_چکی \n",
      "Faiz Hameed\n",
      "#AhadRazaMir \n",
      "General Qamar Javed Bajwa\n",
      "Absolutely yes Khan Sahab \n",
      "Press of DGISPR & DGISI is backfire Badly\n",
      "\n",
      "#عوام_حقیقت_جان_چکی\n",
      "#حقیقی_آزادی_لانگ_مارچ\n",
      "#AhadRazaMir\n",
      "#PathaanTeaserOn2Nov\n",
      "Is this guy on drugs? How does Gujjar become Juggar? \n",
      "\n",
      "#AhadRazaMir #blueTick #لانگ_مارچ_ٹھس_ہوگیا #حقیقی_آزادی_لانگ_مارچ #عوام_حقیقت_جان_چکی #WellDoneCOAS\n",
      "HIS PHOTOSHOOTS WILL ALWAYS HIT DIFFERENT NO IFS OR BUTS\n",
      "\n",
      "#AhadRazaMir\n",
      "his power >>> \n",
      "@ahadrazamir\n",
      "  #AhadRazaMir\n",
      "I stand with PM IK \n",
      "#حقیقی_آزادی_لانگ_مارچ \n",
      "#عوام_حقیقت_جان_چکی \n",
      "Faiz Hameed\n",
      "#AhadRazaMir \n",
      "General Qamar Javed Bajwa\n",
      "Absolutely yes Khan Sahab \n",
      "I'm sure this is going to be the best photo shoot of the yearOur Ahad is back with his royalty.\n",
      "The background looks like I've almost stepped into Egyptian civilization, so nice!!our Aesthetic boy\n",
      "#ahadrazamir\n",
      "this shot is so crazy i can write a 3000 words detailed analysis about it this moment\n",
      "#ahadrazamir \n",
      "@ahadrazamir\n",
      "Good morning \n",
      "Mir boi is still on trending\n",
      "@ahadrazamir\n",
      " \n",
      "#AhadRazaMir\n",
      "Finally it's happening...!\n",
      "Can't wait more\n",
      "@ahadrazamir\n",
      " #ahad #AhadRazaMir\n"
     ]
    }
   ],
   "source": [
    "last_elem=''\n",
    "current_elem=''\n",
    "result = False\n",
    "old_height = driver.execute_script(\"return document.body.scrollHeight\")\n",
    "all_tweets = driver.find_elements(By.XPATH, '//div[@data-testid]//article[@data-testid=\"tweet\"]')\n",
    "\n",
    "while result == False:\n",
    "    for i in all_tweets[1:]:\n",
    "        try:\n",
    "            text = i.find_element(By.XPATH, './/div[@data-testid=\"tweetText\"]').text\n",
    "        except:\n",
    "            text = '[empty]'\n",
    "        print(text)\n",
    "\n",
    "      \n",
    "\n",
    "    \n",
    "        #Append new tweets replies to tweet array\n",
    "        data.append([text])\n",
    "               \n",
    "      #scroll down the page\n",
    "    driver.execute_script(\"window.scrollTo(0,document.body.scrollHeight)\")\n",
    "    time.sleep(5)\n",
    "    new_height = driver.execute_script(\"return document.body.scrollHeight\")\n",
    "    \n",
    "    if new_height == old_height:\n",
    "        result = True\n",
    "    old_height = new_height\n",
    "    \n",
    "    #update all_tweets to keep loop\n",
    "    all_tweets = driver.find_elements(By.XPATH, '//div[@data-testid]//article[@data-testid=\"tweet\"]')\n"
   ]
  },
  {
   "cell_type": "code",
   "execution_count": null,
   "id": "0e72024c",
   "metadata": {},
   "outputs": [],
   "source": []
  },
  {
   "cell_type": "markdown",
   "id": "ca21d61d",
   "metadata": {},
   "source": [
    "# Google Map"
   ]
  },
  {
   "cell_type": "code",
   "execution_count": 20,
   "id": "3e865e3b",
   "metadata": {},
   "outputs": [
    {
     "name": "stderr",
     "output_type": "stream",
     "text": [
      "[WDM] - \n",
      "\n",
      "[WDM] - ====== WebDriver manager ======\n",
      "[WDM] - Current google-chrome version is 106.0.5249\n",
      "[WDM] - Get LATEST driver version for 106.0.5249\n",
      "[WDM] - Driver [C:\\Users\\HP\\.wdm\\drivers\\chromedriver\\win32\\106.0.5249.61\\chromedriver.exe] found in cache\n",
      "<ipython-input-20-8bb751dbdf8f>:3: DeprecationWarning: executable_path has been deprecated, please pass in a Service object\n",
      "  driver = webdriver.Chrome(ChromeDriverManager().install(), options=options)\n",
      "<ipython-input-20-8bb751dbdf8f>:8: DeprecationWarning: find_element_by_* commands are deprecated. Please use find_element() instead\n",
      "  driver.find_element_by_xpath('//*[@id=\"searchboxinput\"]').send_keys(search_term + Keys.RETURN)\n"
     ]
    }
   ],
   "source": [
    "options = Options()\n",
    "# options.add_argument(\"--headless\")\n",
    "driver = webdriver.Chrome(ChromeDriverManager().install(), options=options)\n",
    "\n",
    "driver.get('https://maps.google.com')\n",
    "\n",
    "search_term = 'NUST Islamabad'\n",
    "driver.find_element_by_xpath('//*[@id=\"searchboxinput\"]').send_keys(search_term + Keys.RETURN)\n",
    "time.sleep(7)"
   ]
  },
  {
   "cell_type": "code",
   "execution_count": 21,
   "id": "9b4efaa8",
   "metadata": {},
   "outputs": [],
   "source": [
    "# /html/body/div[3]/div[9]/div[9]/div/div/div[1]/div[2]/div/div[1]/div/div/div[2]/div[1]/div[3]/div/div[2]/div[2]/div[1]/div/div/div[2]/div[1]/div"
   ]
  },
  {
   "cell_type": "code",
   "execution_count": 22,
   "id": "57315f7b",
   "metadata": {
    "scrolled": true
   },
   "outputs": [
    {
     "name": "stdout",
     "output_type": "stream",
     "text": [
      "Name: National University of Sciences & Technology (NUST)\n",
      "Rating: 4.6(2,661)\n"
     ]
    },
    {
     "name": "stderr",
     "output_type": "stream",
     "text": [
      "<ipython-input-22-2ea6056f3e68>:1: DeprecationWarning: find_elements_by_* commands are deprecated. Please use find_elements() instead\n",
      "  data = driver.find_elements_by_xpath('//*[@id=\"pane\"]/div/div[1]/div/div/div[7]/div')\n",
      "<ipython-input-22-2ea6056f3e68>:3: DeprecationWarning: find_element_by_* commands are deprecated. Please use find_element() instead\n",
      "  name = driver.find_element_by_xpath('/html/body/div[3]/div[9]/div[9]/div/div/div[1]/div[2]/div/div[1]/div/div/div[2]/div[1]/div[3]/div/div[2]/div[2]/div[1]/div/div/div[2]/div[1]/div').text\n",
      "<ipython-input-22-2ea6056f3e68>:4: DeprecationWarning: find_element_by_* commands are deprecated. Please use find_element() instead\n",
      "  rating = driver.find_element_by_xpath('//*[@id=\"QA0Szd\"]/div/div/div[1]/div[2]/div/div[1]/div/div/div[2]/div[1]/div[3]/div/div[2]/div[2]/div[1]/div/div/div[2]/div[3]/div/span[2]/span[2]').text\n"
     ]
    }
   ],
   "source": [
    "data = driver.find_elements_by_xpath('//*[@id=\"pane\"]/div/div[1]/div/div/div[7]/div')\n",
    "\n",
    "name = driver.find_element_by_xpath('/html/body/div[3]/div[9]/div[9]/div/div/div[1]/div[2]/div/div[1]/div/div/div[2]/div[1]/div[3]/div/div[2]/div[2]/div[1]/div/div/div[2]/div[1]/div').text\n",
    "rating = driver.find_element_by_xpath('//*[@id=\"QA0Szd\"]/div/div/div[1]/div[2]/div/div[1]/div/div/div[2]/div[1]/div[3]/div/div[2]/div[2]/div[1]/div/div/div[2]/div[3]/div/span[2]/span[2]').text\n",
    "# reviews = driver.find_element_by_xpath('//*[@id=\"pane\"]/div/div[1]/div/div/div[2]/div[1]/div[1]/div[2]/div/div[1]/span[1]/span/span/span[2]/span[1]/button').text\n",
    "# category = driver.find_element_by_xpath('//*[@id=\"pane\"]/div/div[1]/div/div/div[2]/div[1]/div[1]/div[2]/div/div[2]/span[1]/span[1]/button').text\n",
    "\n",
    "# location = \"\"\n",
    "# plus_code = \"\"\n",
    "# website = \"\"\n",
    "# phone_no = \"\"\n",
    "# health_safety = \"\"\n",
    "# located_in = \"\"\n",
    "\n",
    "# try:\n",
    "#     timings = driver.find_element_by_xpath('//*[@id=\"pane\"]/div/div[1]/div/div/div[7]/div[3]/div[2]').get_attribute(\"aria-label\")\n",
    "#     if timings == None:                     \n",
    "#         timings = driver.find_element_by_xpath('//*[@id=\"pane\"]/div/div[1]/div/div/div[7]/div[2]/div[2]').get_attribute(\"aria-label\")\n",
    "# except NoSuchElementException:\n",
    "#     try:\n",
    "#         timings = driver.find_element_by_xpath('//*[@id=\"pane\"]/div/div[1]/div/div/div[7]/div[2]/div[2]').get_attribute(\"aria-label\")\n",
    "#     except:\n",
    "#         timings = 'Unavailable'\n",
    "\n",
    "\n",
    "for val in data:\n",
    "    text = val.text\n",
    "    if text == data[0].text:\n",
    "        location = text\n",
    "        continue\n",
    "    if text[4] == '+':\n",
    "        plus_code = text\n",
    "    elif text[0] == '+':\n",
    "        phone_no = text\n",
    "    elif text[:6] == 'Health':\n",
    "        health_safety = text[17:]\n",
    "    elif text[:7] == 'Located':\n",
    "        located_in = text[12:]\n",
    "    else:\n",
    "        continue\n",
    "\n",
    "print(f'Name: {name}\\nRating: {rating}')"
   ]
  },
  {
   "cell_type": "code",
   "execution_count": 12,
   "id": "9960128f",
   "metadata": {},
   "outputs": [],
   "source": [
    "driver.close()"
   ]
  },
  {
   "cell_type": "markdown",
   "id": "c821f911",
   "metadata": {},
   "source": [
    "# Let's explore daraz"
   ]
  },
  {
   "cell_type": "code",
   "execution_count": 23,
   "id": "dfe33bd2",
   "metadata": {},
   "outputs": [
    {
     "name": "stdout",
     "output_type": "stream",
     "text": [
      "Enter search term: mobile cover\n",
      "Modified search term: mobile%20cover\n"
     ]
    }
   ],
   "source": [
    "ratings = [3, 4]\n",
    "pricing = [(300,500), (1000,1500)]\n",
    "\n",
    "query = input('Enter search term: ').replace(' ', '%20')\n",
    "print(f'Modified search term: {query}')\n"
   ]
  },
  {
   "cell_type": "code",
   "execution_count": 24,
   "id": "026e7166",
   "metadata": {},
   "outputs": [
    {
     "name": "stderr",
     "output_type": "stream",
     "text": [
      "[WDM] - \n",
      "\n",
      "[WDM] - ====== WebDriver manager ======\n",
      "[WDM] - Current google-chrome version is 106.0.5249\n",
      "[WDM] - Get LATEST driver version for 106.0.5249\n",
      "[WDM] - Driver [C:\\Users\\HP\\.wdm\\drivers\\chromedriver\\win32\\106.0.5249.61\\chromedriver.exe] found in cache\n",
      "<ipython-input-24-ca9405ce3ba1>:3: DeprecationWarning: executable_path has been deprecated, please pass in a Service object\n",
      "  driver = webdriver.Chrome(ChromeDriverManager().install(), options=options)\n",
      "<ipython-input-24-ca9405ce3ba1>:14: DeprecationWarning: find_elements_by_* commands are deprecated. Please use find_elements() instead\n",
      "  for product in driver.find_elements_by_class_name('gridItem--Yd0sa'):\n",
      "C:\\Users\\HP\\anaconda3\\lib\\site-packages\\selenium\\webdriver\\remote\\webelement.py:445: UserWarning: find_element_by_* commands are deprecated. Please use find_element() instead\n",
      "  warnings.warn(\"find_element_by_* commands are deprecated. Please use find_element() instead\")\n"
     ]
    },
    {
     "name": "stdout",
     "output_type": "stream",
     "text": [
      "Name:, Hontinga for Vivo V20 / V20 2021 Back Cover Luxury 6D Plating Cartoon Lucky Deer Side Pattern Case Soft Silicone Square Phone Cases, Price:, 589, Location:, Free Shipping\n",
      "Name:, Hontinga for Samsung A72 5G / 4G Case Luxury 6D Plating Soft Back Cover Silicone Square Frame Shiny Bling Phone Cases, Price:, 480, Location:, Free Shipping\n",
      "Name:, vivoo X70 Pro , Full Protection Vinyl Skin/Wrap in Plain , Carbon Fiber and Leather Textures for X70Pro, Price:, 95, Location:, Pakistan\n",
      "Name:, Samsung Galaxy A32 4G , Full Protection Vinyl Plain , Carbon Fiber , Leather Textures Skin for A32, Price:, 95, Location:, Pakistan\n",
      "Name:, Google Pixel 4XL Case, Soft TPU Matte Finish Mobile Phone Case Ultra Thin Slim Fit Protective Cell Phone Back Cover for Google Pixel 4XL-Black, Price:, 299, Location:, Pakistan\n",
      "Name:, Samsung Galaxy S22 Ultra , Full Back Protection Vinyl Skin/Wrap in Plain , Carbon Fiber and Leather Textures for S22ULtra, Price:, 95, Location:, Pakistan\n",
      "Name:, UCUC for Infinix Hot 9 Play Back Cover Butterflies Fly Luxury 6D Plating Case Side Pattern Soft Silicone Square Mobile Phone Cases, Price:, 499, Location:, Free Shipping\n",
      "Name:, Google Pixel 3 , Full Back Protection Sheet with Four Sides Vinyl Skin/Wrap in variety of Textures and Colors for Pixel3, Price:, 95, Location:, Pakistan\n",
      "Name:, OnePlus 7T, Full Back Protection Sheet with Four Sides Vinyl Skin/Wrap in variety of Textures and Colors for 7T, Price:, 95, Location:, Pakistan\n",
      "Name:, Google Pixel 4 XL , Full Back Protection Sheet with Four Sides Vinyl Skin/Wrap in variety of Textures and Colors for 4XL, Price:, 95, Location:, Pakistan\n",
      "Name:, Sony Xperia 5 , Full Back Protection Sheet with Four Sides Vinyl Skin/Wrap in variety of Textures and Colors for Xperia5, Price:, 95, Location:, Pakistan\n",
      "Name:, Lereach For Motorola Moto G31 / G41 Mobile Phone Case TPU Hard Ring Car Ring Bracket Shockproof Back Cover, Price:, 837, Location:, Free Shipping\n",
      "Name:, vivoo V23 , Full Protection Vinyl Skin/Wrap in Plain , Carbon Fiber and Leather Textures for V23, Price:, 95, Location:, Pakistan\n",
      "Name:, Google Pixel 6 , Full Protection Vinyl Skin/Wrap in Plain , Carbon Fiber and Leather Textures for Pixel6, Price:, 95, Location:, Pakistan\n",
      "Name:, Google Pixel 4 , Full Back Protection Sheet with Four Sides Vinyl Skin/Wrap in variety of Textures and Colors for Pixel4, Price:, 95, Location:, Pakistan\n",
      "Name:, LG Velvet , Full Back Protection Sheet with Four Sides Vinyl Skin/Wrap in variety of Textures and Colors for Velvet, Price:, 99, Location:, Pakistan\n",
      "Name:, Lenuo Punk-Casing For Xiaomi POCO X3 Pro / X3 / X3 NFC Back Cover Eight-Color Anti-Fall And Anti-Slip Phone Bracket Lens Protection Cover Lovers Case, Price:, 719, Location:, Free Shipping\n",
      "Name:, Hontinga for Vivo V20 SE Back Cover Luxury 6D Plating Frame Shiny Bling Case Soft Silicone Square Phone Cases, Price:, 480, Location:, Free Shipping\n",
      "Name:, water proof cover for mobile Underwater PVC Bag Transparent Touch Screen Premium Cell Phone Pouch Mobile Cover, Price:, 148, Location:, Pakistan\n",
      "Name:, Aquos R3 Mobile Cover Soft Tpu Slim Matte Flexible case - Black, Price:, 299, Location:, Pakistan\n",
      "Name:, Waterproof Case Underwater PVC Bag Transparent Touch Screen Premium Cell Phone Pouch Cover Mobile Cover For Travel, Price:, 145, Location:, Pakistan\n",
      "Name:, Lenuo Phone Case for Samsung Galaxy S9+ / S9 Plus Silicone PC Metal Ring Holder Cover, Price:, 719, Location:, Free Shipping\n",
      "Name:, Oneplus 8 Shockproof Case, Crystal Clear Hard PC back TPU bumper Mobile Phone Case, Price:, 195, Location:, Pakistan\n",
      "Name:, OnePlus 9 , Full Back Protection Sheet with Four Sides Vinyl Skin/Wrap in variety of Textures and Colors for OnePlus9, Price:, 95, Location:, Pakistan\n",
      "Name:, Sixonic Universal Water Proof Rain Proof Under Water Mobile Phone Cover Pouch, Price:, 130, Location:, Pakistan\n",
      "Name:, Lg Wing Phone Case Lg Wing 5G Phone Leather Case Flip Crazy Horse Pattern Lanyard Card Protection Case Wing flip shockproof magnetic leather card slots wallet Anti-drop Luxury Soft Side Protection Mobile Phone Case Cover Back, Price:, 1058, Location:, Free Shipping\n",
      "Name:, Ask for Any Model, CyberPunk 2077 Design Full Protection Vinyl Skin/Wrap for All Models of Famous Phone Brands, Price:, 149, Location:, Pakistan\n",
      "Name:, Sony Xperia XZ3 Armor Case Hybrid Shock Proof Dual layer with kickstand Cover, Price:, 499, Location:, Pakistan\n",
      "Name:, Xiaomi Poco F3 , Full Protection Skin in Vinyl Plain / Carbon Fiber / Leather Textures for PocoF3, Price:, 95, Location:, Pakistan\n",
      "Name:, itel A25 / itel A25 Pro Camera Protection ShockProof Anti-Burst Transparent TPU Mobile Back Case, Price:, 119, Location:, Free Shipping\n",
      "Name:, Samsung Galaxy S10 5G (6.7'') , Full Back Protection Sheet with Four Sides Vinyl Skin/Wrap in variety of Textures and Colors for S105G, Price:, 95, Location:, Pakistan\n",
      "Name:, Sixonic Universal Water Proof Rain Proof Under Water Mobile Phone Cover Pouch, Price:, 109, Location:, Free Shipping\n",
      "Name:, UCUC for Xiaomi Redmi Note 11 / Redmi Note 11S Back Cover Luxury 6D Plating Case Side Pattern Soft Silicone Square Mobile Phone Cases, Price:, 479, Location:, Free Shipping\n",
      "Name:, Lenuo Punk-Casing For Samsung Galaxy A33 5G Back Cover Eight-Color Anti-Fall And Anti-Slip Phone Bracket Lens Protection Cover Lovers Case, Price:, 719, Location:, Free Shipping\n",
      "Name:, Clear TPU Shockproof Mobile Phone Protective Case Back Cover for Pixel 4/4XL, Price:, 315, Location:, Free Shipping\n",
      "Name:, Xiaomi Mi 11 Lite , Full Back Protection Sheet with Four Sides Vinyl Skin/Wrap in variety of Textures and Colors for Mi11Lite, Price:, 95, Location:, Pakistan\n",
      "Name:, Hontinga for Xiaomi Poco X3 GT Case Luxury 6D Plating Soft Back Cover Silicone Square Frame Shiny Bling Phone Cover, Price:, 480, Location:, Free Shipping\n",
      "Name:, Xiaomi Poco X3 / Poco X3 Pro , Full Back Protection Sheet with Four Sides Vinyl Skin/Wrap in variety of Textures and Colors for PocoX3 / PocoX3Pro, Price:, 99, Location:, Pakistan\n",
      "Name:, FELMYST For LG V30 Back Mobile Phone Case Rugged Fiber Shield Matte Rubber ArmorMens Boys Full Protect Shockproof Cover, Price:, 748, Location:, Free Shipping\n",
      "Name:, Samsung Galaxy A73 5G , Full Back Protection Sheet with Four Sides Vinyl Skin/Wrap in variety of Textures and Colors for A73, Price:, 99, Location:, Pakistan\n",
      "Name:, Hontinga for Samsung A72 5G / 4G Case Luxury 6D Plating Soft Back Cover Silicone Square Frame Shiny Bling Phone Cases, Price:, 480, Location:, Free Shipping\n",
      "Name:, UCUC for Infinix Hot 9 Play Back Cover Butterflies Fly Luxury 6D Plating Case Side Pattern Soft Silicone Square Mobile Phone Cases, Price:, 499, Location:, Free Shipping\n",
      "Name:, vivoo X70 Pro , Full Protection Vinyl Skin/Wrap in Plain , Carbon Fiber and Leather Textures for X70Pro, Price:, 95, Location:, Pakistan\n",
      "Name:, Samsung Galaxy A32 4G , Full Protection Vinyl Plain , Carbon Fiber , Leather Textures Skin for A32, Price:, 95, Location:, Pakistan\n",
      "Name:, Google Pixel 4XL Case, Soft TPU Matte Finish Mobile Phone Case Ultra Thin Slim Fit Protective Cell Phone Back Cover for Google Pixel 4XL-Black, Price:, 299, Location:, Pakistan\n",
      "Name:, Samsung Galaxy S22 Ultra , Full Back Protection Vinyl Skin/Wrap in Plain , Carbon Fiber and Leather Textures for S22ULtra, Price:, 95, Location:, Pakistan\n",
      "Name:, Google Pixel 3 , Full Back Protection Sheet with Four Sides Vinyl Skin/Wrap in variety of Textures and Colors for Pixel3, Price:, 95, Location:, Pakistan\n",
      "Name:, OnePlus 7T, Full Back Protection Sheet with Four Sides Vinyl Skin/Wrap in variety of Textures and Colors for 7T, Price:, 95, Location:, Pakistan\n",
      "Name:, Google Pixel 4 XL , Full Back Protection Sheet with Four Sides Vinyl Skin/Wrap in variety of Textures and Colors for 4XL, Price:, 95, Location:, Pakistan\n",
      "Name:, Sony Xperia 5 , Full Back Protection Sheet with Four Sides Vinyl Skin/Wrap in variety of Textures and Colors for Xperia5, Price:, 95, Location:, Pakistan\n",
      "Name:, Lereach For Motorola Moto G31 / G41 Mobile Phone Case TPU Hard Ring Car Ring Bracket Shockproof Back Cover, Price:, 837, Location:, Free Shipping\n",
      "Name:, vivoo V23 , Full Protection Vinyl Skin/Wrap in Plain , Carbon Fiber and Leather Textures for V23, Price:, 95, Location:, Pakistan\n",
      "Name:, Google Pixel 6 , Full Protection Vinyl Skin/Wrap in Plain , Carbon Fiber and Leather Textures for Pixel6, Price:, 95, Location:, Pakistan\n",
      "Name:, Google Pixel 4 , Full Back Protection Sheet with Four Sides Vinyl Skin/Wrap in variety of Textures and Colors for Pixel4, Price:, 95, Location:, Pakistan\n",
      "Name:, LG Velvet , Full Back Protection Sheet with Four Sides Vinyl Skin/Wrap in variety of Textures and Colors for Velvet, Price:, 99, Location:, Pakistan\n",
      "Name:, Lenuo Punk-Casing For Xiaomi POCO X3 Pro / X3 / X3 NFC Back Cover Eight-Color Anti-Fall And Anti-Slip Phone Bracket Lens Protection Cover Lovers Case, Price:, 719, Location:, Free Shipping\n",
      "Name:, Hontinga for Vivo V20 SE Back Cover Luxury 6D Plating Frame Shiny Bling Case Soft Silicone Square Phone Cases, Price:, 480, Location:, Free Shipping\n",
      "Name:, water proof cover for mobile Underwater PVC Bag Transparent Touch Screen Premium Cell Phone Pouch Mobile Cover, Price:, 148, Location:, Pakistan\n",
      "Name:, Aquos R3 Mobile Cover Soft Tpu Slim Matte Flexible case - Black, Price:, 299, Location:, Pakistan\n",
      "Name:, Waterproof Case Underwater PVC Bag Transparent Touch Screen Premium Cell Phone Pouch Cover Mobile Cover For Travel, Price:, 145, Location:, Pakistan\n",
      "Name:, Lenuo Phone Case for Samsung Galaxy S9+ / S9 Plus Silicone PC Metal Ring Holder Cover, Price:, 719, Location:, Free Shipping\n",
      "Name:, Oneplus 8 Shockproof Case, Crystal Clear Hard PC back TPU bumper Mobile Phone Case, Price:, 195, Location:, Pakistan\n",
      "Name:, OnePlus 9 , Full Back Protection Sheet with Four Sides Vinyl Skin/Wrap in variety of Textures and Colors for OnePlus9, Price:, 95, Location:, Pakistan\n",
      "Name:, Sixonic Universal Water Proof Rain Proof Under Water Mobile Phone Cover Pouch, Price:, 130, Location:, Pakistan\n",
      "Name:, Lg Wing Phone Case Lg Wing 5G Phone Leather Case Flip Crazy Horse Pattern Lanyard Card Protection Case Wing flip shockproof magnetic leather card slots wallet Anti-drop Luxury Soft Side Protection Mobile Phone Case Cover Back, Price:, 1058, Location:, Free Shipping\n",
      "Name:, Ask for Any Model, CyberPunk 2077 Design Full Protection Vinyl Skin/Wrap for All Models of Famous Phone Brands, Price:, 149, Location:, Pakistan\n",
      "Name:, Sony Xperia XZ3 Armor Case Hybrid Shock Proof Dual layer with kickstand Cover, Price:, 499, Location:, Pakistan\n",
      "Name:, Xiaomi Poco F3 , Full Protection Skin in Vinyl Plain / Carbon Fiber / Leather Textures for PocoF3, Price:, 95, Location:, Pakistan\n",
      "Name:, itel A25 / itel A25 Pro Camera Protection ShockProof Anti-Burst Transparent TPU Mobile Back Case, Price:, 119, Location:, Free Shipping\n",
      "Name:, Samsung Galaxy S10 5G (6.7'') , Full Back Protection Sheet with Four Sides Vinyl Skin/Wrap in variety of Textures and Colors for S105G, Price:, 95, Location:, Pakistan\n",
      "Name:, Sixonic Universal Water Proof Rain Proof Under Water Mobile Phone Cover Pouch, Price:, 109, Location:, Free Shipping\n",
      "Name:, UCUC for Xiaomi Redmi Note 11 / Redmi Note 11S Back Cover Luxury 6D Plating Case Side Pattern Soft Silicone Square Mobile Phone Cases, Price:, 479, Location:, Free Shipping\n",
      "Name:, Lenuo Punk-Casing For Samsung Galaxy A33 5G Back Cover Eight-Color Anti-Fall And Anti-Slip Phone Bracket Lens Protection Cover Lovers Case, Price:, 719, Location:, Free Shipping\n",
      "Name:, Clear TPU Shockproof Mobile Phone Protective Case Back Cover for Pixel 4/4XL, Price:, 315, Location:, Free Shipping\n",
      "Name:, Xiaomi Mi 11 Lite , Full Back Protection Sheet with Four Sides Vinyl Skin/Wrap in variety of Textures and Colors for Mi11Lite, Price:, 95, Location:, Pakistan\n",
      "Name:, Hontinga for Xiaomi Poco X3 GT Case Luxury 6D Plating Soft Back Cover Silicone Square Frame Shiny Bling Phone Cover, Price:, 480, Location:, Free Shipping\n",
      "Name:, Xiaomi Poco X3 / Poco X3 Pro , Full Back Protection Sheet with Four Sides Vinyl Skin/Wrap in variety of Textures and Colors for PocoX3 / PocoX3Pro, Price:, 99, Location:, Pakistan\n",
      "Name:, FELMYST For LG V30 Back Mobile Phone Case Rugged Fiber Shield Matte Rubber ArmorMens Boys Full Protect Shockproof Cover, Price:, 748, Location:, Free Shipping\n",
      "Name:, Samsung Galaxy A73 5G , Full Back Protection Sheet with Four Sides Vinyl Skin/Wrap in variety of Textures and Colors for A73, Price:, 99, Location:, Pakistan\n",
      "Name:, Hontinga for OPPO Reno6 Case Luxury 6D Plating Maple Leaf Side Pattern Soft Back Cover Silicone Square Phone Cases, Price:, 565, Location:, Free Shipping\n"
     ]
    }
   ],
   "source": [
    "options = Options()\n",
    "# options.add_argument(\"--headless\")\n",
    "driver = webdriver.Chrome(ChromeDriverManager().install(), options=options)\n",
    "\n",
    "names = []\n",
    "mall = []\n",
    "prce = []\n",
    "loc = []\n",
    "revw = []\n",
    "#for i in pricing:\n",
    "for j in ratings:\n",
    "    driver.get(f'https://www.daraz.pk/catalog/?from=input&q={query}&rating={j}')\n",
    "\n",
    "    for product in driver.find_elements_by_class_name('gridItem--Yd0sa'):\n",
    "        name = product.find_element_by_class_name('title--wFj93').text\n",
    "        \n",
    "        try:\n",
    "            price = int(product.find_element_by_class_name('price--NVB62').text[3:].replace(',',''))\n",
    "        except ValueError:\n",
    "            price = 0\n",
    "\n",
    "        try:\n",
    "            rateAndLoc = product.find_element_by_class_name('rateAndLoc--XWchq')\n",
    "            location = rateAndLoc.find_element_by_class_name('location--eh0Ro').text\n",
    "        except NoSuchElementException:\n",
    "            location = 'Not Available'\n",
    "\n",
    "        loc.append(location)\n",
    "        prce.append(price)\n",
    "        names.append(name)\n",
    "driver.close()\n",
    "            \n",
    "for i in range(len(names)):\n",
    "    print(f'Name:, {names[i]}, Price:, {prce[i]}, Location:, {loc[i]}')"
   ]
  },
  {
   "cell_type": "code",
   "execution_count": 55,
   "id": "accc4036",
   "metadata": {},
   "outputs": [
    {
     "data": {
      "text/html": [
       "<div>\n",
       "<style scoped>\n",
       "    .dataframe tbody tr th:only-of-type {\n",
       "        vertical-align: middle;\n",
       "    }\n",
       "\n",
       "    .dataframe tbody tr th {\n",
       "        vertical-align: top;\n",
       "    }\n",
       "\n",
       "    .dataframe thead th {\n",
       "        text-align: right;\n",
       "    }\n",
       "</style>\n",
       "<table border=\"1\" class=\"dataframe\">\n",
       "  <thead>\n",
       "    <tr style=\"text-align: right;\">\n",
       "      <th></th>\n",
       "      <th>Name</th>\n",
       "      <th>Price</th>\n",
       "    </tr>\n",
       "  </thead>\n",
       "  <tbody>\n",
       "    <tr>\n",
       "      <th>0</th>\n",
       "      <td>Luxury 6D Plating Soft Casing Silicone Square ...</td>\n",
       "      <td>539</td>\n",
       "    </tr>\n",
       "    <tr>\n",
       "      <th>1</th>\n",
       "      <td>Hontinga for Realme 3 Back Cover Luxury 6D Pla...</td>\n",
       "      <td>500</td>\n",
       "    </tr>\n",
       "    <tr>\n",
       "      <th>2</th>\n",
       "      <td>OnePlus 7T, Full Back Protection Sheet with Fo...</td>\n",
       "      <td>95</td>\n",
       "    </tr>\n",
       "    <tr>\n",
       "      <th>3</th>\n",
       "      <td>Google Pixel 4XL Case, Soft TPU Matte Finish M...</td>\n",
       "      <td>299</td>\n",
       "    </tr>\n",
       "    <tr>\n",
       "      <th>4</th>\n",
       "      <td>Universal Waterproof Mobile Pouch / Cover / Ca...</td>\n",
       "      <td>139</td>\n",
       "    </tr>\n",
       "    <tr>\n",
       "      <th>...</th>\n",
       "      <td>...</td>\n",
       "      <td>...</td>\n",
       "    </tr>\n",
       "    <tr>\n",
       "      <th>75</th>\n",
       "      <td>LG Velvet , Full Back Protection Sheet with Fo...</td>\n",
       "      <td>99</td>\n",
       "    </tr>\n",
       "    <tr>\n",
       "      <th>76</th>\n",
       "      <td>Xiaomi Redmi Note 11 Pro 4G / 5G 2022 , Full B...</td>\n",
       "      <td>95</td>\n",
       "    </tr>\n",
       "    <tr>\n",
       "      <th>77</th>\n",
       "      <td>Hontinga for Realme 6 / Narzo Case Luxury 6D P...</td>\n",
       "      <td>500</td>\n",
       "    </tr>\n",
       "    <tr>\n",
       "      <th>78</th>\n",
       "      <td>Hontinga for OPPO F11 Pro Back Cover Luxury 6D...</td>\n",
       "      <td>500</td>\n",
       "    </tr>\n",
       "    <tr>\n",
       "      <th>79</th>\n",
       "      <td>Samsung Galaxy M31 - Matte Translucent Shockpr...</td>\n",
       "      <td>239</td>\n",
       "    </tr>\n",
       "  </tbody>\n",
       "</table>\n",
       "<p>80 rows × 2 columns</p>\n",
       "</div>"
      ],
      "text/plain": [
       "                                                 Name  Price\n",
       "0   Luxury 6D Plating Soft Casing Silicone Square ...    539\n",
       "1   Hontinga for Realme 3 Back Cover Luxury 6D Pla...    500\n",
       "2   OnePlus 7T, Full Back Protection Sheet with Fo...     95\n",
       "3   Google Pixel 4XL Case, Soft TPU Matte Finish M...    299\n",
       "4   Universal Waterproof Mobile Pouch / Cover / Ca...    139\n",
       "..                                                ...    ...\n",
       "75  LG Velvet , Full Back Protection Sheet with Fo...     99\n",
       "76  Xiaomi Redmi Note 11 Pro 4G / 5G 2022 , Full B...     95\n",
       "77  Hontinga for Realme 6 / Narzo Case Luxury 6D P...    500\n",
       "78  Hontinga for OPPO F11 Pro Back Cover Luxury 6D...    500\n",
       "79  Samsung Galaxy M31 - Matte Translucent Shockpr...    239\n",
       "\n",
       "[80 rows x 2 columns]"
      ]
     },
     "execution_count": 55,
     "metadata": {},
     "output_type": "execute_result"
    }
   ],
   "source": [
    "df = pd.DataFrame({'Name':names, 'Price':prce})\n",
    "df"
   ]
  },
  {
   "cell_type": "code",
   "execution_count": null,
   "id": "73ca7c44",
   "metadata": {},
   "outputs": [],
   "source": []
  }
 ],
 "metadata": {
  "kernelspec": {
   "display_name": "Python 3",
   "language": "python",
   "name": "python3"
  },
  "language_info": {
   "codemirror_mode": {
    "name": "ipython",
    "version": 3
   },
   "file_extension": ".py",
   "mimetype": "text/x-python",
   "name": "python",
   "nbconvert_exporter": "python",
   "pygments_lexer": "ipython3",
   "version": "3.8.8"
  }
 },
 "nbformat": 4,
 "nbformat_minor": 5
}
