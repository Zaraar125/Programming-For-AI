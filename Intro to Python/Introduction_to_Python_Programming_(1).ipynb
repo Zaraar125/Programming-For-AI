{
  "cells": [
    {
      "cell_type": "markdown",
      "metadata": {
        "id": "iLBynRmlz_zp"
      },
      "source": [
        "# Introduction to Python programming"
      ]
    },
    {
      "cell_type": "markdown",
      "metadata": {
        "id": "Ia_NTXziz_zv"
      },
      "source": [
        "## Variables and types"
      ]
    },
    {
      "cell_type": "markdown",
      "metadata": {
        "id": "gtmhqWpYz_zw"
      },
      "source": [
        "### Symbol names "
      ]
    },
    {
      "cell_type": "markdown",
      "metadata": {
        "id": "efeYStCtz_zw"
      },
      "source": [
        "Variable names in Python can contain alphanumerical characters `a-z`, `A-Z`, `0-9` and some special characters such as `_`. Normal variable names must start with a letter. \n",
        "\n",
        "By convention, variable names start with a lower-case letter, and Class names start with a capital letter. \n",
        "\n",
        "In addition, there are a number of Python keywords that cannot be used as variable names. These keywords are:\n",
        "\n",
        "    and, as, assert, break, class, continue, def, del, elif, else, except, \n",
        "    exec, finally, for, from, global, if, import, in, is, lambda, not, or,\n",
        "    pass, print, raise, return, try, while, with, yield\n",
        "\n",
        "Note: Be aware of the keyword `lambda`, which could easily be a natural variable name in a scientific program. But being a keyword, it cannot be used as a variable name."
      ]
    },
    {
      "cell_type": "markdown",
      "metadata": {
        "id": "FPvyZJvEz_zx"
      },
      "source": [
        "### Assignment"
      ]
    },
    {
      "cell_type": "markdown",
      "metadata": {
        "id": "tC9DFXV-z_zx"
      },
      "source": [
        "\n",
        "\n",
        "The assignment operator in Python is `=`. Python is a dynamically typed language, so we do not need to specify the type of a variable when we create one.\n",
        "\n",
        "Assigning a value to a new variable creates the variable:"
      ]
    },
    {
      "cell_type": "code",
      "execution_count": null,
      "metadata": {
        "id": "U3l-113Uz_zy"
      },
      "outputs": [],
      "source": [
        "# variable assignments\n",
        "x = 1.0\n",
        "my_variable = 12.2"
      ]
    },
    {
      "cell_type": "markdown",
      "metadata": {
        "id": "QPpTfIx1z_zz"
      },
      "source": [
        "Although not explicitly specified, a variable does have a type associated with it. The type is derived from the value that was assigned to it."
      ]
    },
    {
      "cell_type": "code",
      "execution_count": null,
      "metadata": {
        "id": "BHH_XdMvz_zz",
        "outputId": "1219eec5-e8c2-4402-ea02-c9cc0deff257"
      },
      "outputs": [
        {
          "name": "stdout",
          "output_type": "stream",
          "text": [
            "<type 'float'>\n"
          ]
        }
      ],
      "source": [
        "print type(x)"
      ]
    },
    {
      "cell_type": "markdown",
      "metadata": {
        "id": "LSAdAKO-z_z1"
      },
      "source": [
        "If we assign a new value to a variable, its type can change."
      ]
    },
    {
      "cell_type": "code",
      "execution_count": null,
      "metadata": {
        "id": "LZ9wbuD7z_z2"
      },
      "outputs": [],
      "source": [
        "x = 1"
      ]
    },
    {
      "cell_type": "code",
      "execution_count": null,
      "metadata": {
        "scrolled": true,
        "id": "sp6Sdu3Bz_z2",
        "outputId": "6f69ba65-99de-4355-a1ef-b29fa8933692"
      },
      "outputs": [
        {
          "name": "stdout",
          "output_type": "stream",
          "text": [
            "<type 'int'>\n"
          ]
        }
      ],
      "source": [
        "print type(x)"
      ]
    },
    {
      "cell_type": "markdown",
      "metadata": {
        "id": "Cl27HZqCz_z3"
      },
      "source": [
        "If we try to use a variable that has not yet been defined we get an `NameError`:"
      ]
    },
    {
      "cell_type": "markdown",
      "metadata": {
        "id": "nK1Mn5X-z_z3"
      },
      "source": [
        "### Fundamental types"
      ]
    },
    {
      "cell_type": "code",
      "execution_count": null,
      "metadata": {
        "id": "66W5FszWz_z4",
        "outputId": "c3dd60ac-de05-4cb7-ae08-930d2d81d751"
      },
      "outputs": [
        {
          "name": "stdout",
          "output_type": "stream",
          "text": [
            "<type 'int'>\n"
          ]
        }
      ],
      "source": [
        "# integers\n",
        "x = 1\n",
        "print type(x)"
      ]
    },
    {
      "cell_type": "code",
      "execution_count": null,
      "metadata": {
        "id": "ERY5XB7tz_z4",
        "outputId": "50a55641-6212-4b70-da12-8eae4bb4b839"
      },
      "outputs": [
        {
          "name": "stdout",
          "output_type": "stream",
          "text": [
            "<type 'float'>\n"
          ]
        }
      ],
      "source": [
        "# float\n",
        "x = 1.0\n",
        "print type(x)"
      ]
    },
    {
      "cell_type": "code",
      "execution_count": null,
      "metadata": {
        "id": "KJGgExrrz_z4",
        "outputId": "47e27077-ab63-4ccd-983d-2f9fb62e29ed"
      },
      "outputs": [
        {
          "name": "stdout",
          "output_type": "stream",
          "text": [
            "<type 'bool'>\n"
          ]
        }
      ],
      "source": [
        "# boolean\n",
        "b1 = True\n",
        "b2 = False\n",
        "\n",
        "print type(b1)"
      ]
    },
    {
      "cell_type": "code",
      "execution_count": null,
      "metadata": {
        "id": "t9LQpJwdz_z5",
        "outputId": "0665ef49-4f11-483e-9843-4e61bb786e43"
      },
      "outputs": [
        {
          "name": "stdout",
          "output_type": "stream",
          "text": [
            "<type 'complex'>\n"
          ]
        }
      ],
      "source": [
        "# complex numbers: note the use of `j` to specify the imaginary part\n",
        "x = 1.0 - 1.0j\n",
        "print type(x)\n"
      ]
    },
    {
      "cell_type": "code",
      "execution_count": null,
      "metadata": {
        "id": "Iioomjkfz_z5",
        "outputId": "10cc5aec-3dbb-45a0-a614-c74e5890bddc"
      },
      "outputs": [
        {
          "name": "stdout",
          "output_type": "stream",
          "text": [
            "(1-1j)\n"
          ]
        }
      ],
      "source": [
        "print x"
      ]
    },
    {
      "cell_type": "code",
      "execution_count": null,
      "metadata": {
        "id": "7WjX2kdzz_z5",
        "outputId": "8137a6e5-9693-43c3-ceb1-616e3a672197"
      },
      "outputs": [
        {
          "name": "stdout",
          "output_type": "stream",
          "text": [
            "1.0 -1.0\n"
          ]
        }
      ],
      "source": [
        "print x.real, x.imag"
      ]
    },
    {
      "cell_type": "markdown",
      "metadata": {
        "id": "-oRK3XOJz_z5"
      },
      "source": [
        "### Type utility functions"
      ]
    },
    {
      "cell_type": "markdown",
      "metadata": {
        "id": "MZbCTknxz_z6"
      },
      "source": [
        "\n",
        "The module `types` contains a number of type name definitions that can be used to test if variables are of certain types:"
      ]
    },
    {
      "cell_type": "code",
      "execution_count": null,
      "metadata": {
        "id": "f9mpBJJJz_z6",
        "outputId": "ffb3649d-8200-4a64-e4d1-b9fe415c732a"
      },
      "outputs": [
        {
          "name": "stdout",
          "output_type": "stream",
          "text": [
            "['BooleanType', 'BufferType', 'BuiltinFunctionType', 'BuiltinMethodType', 'ClassType', 'CodeType', 'ComplexType', 'DictProxyType', 'DictType', 'DictionaryType', 'EllipsisType', 'FileType', 'FloatType', 'FrameType', 'FunctionType', 'GeneratorType', 'GetSetDescriptorType', 'InstanceType', 'IntType', 'LambdaType', 'ListType', 'LongType', 'MemberDescriptorType', 'MethodType', 'ModuleType', 'NoneType', 'NotImplementedType', 'ObjectType', 'SliceType', 'StringType', 'StringTypes', 'TracebackType', 'TupleType', 'TypeType', 'UnboundMethodType', 'UnicodeType', 'XRangeType', '__all__', '__builtins__', '__doc__', '__file__', '__name__', '__package__']\n"
          ]
        }
      ],
      "source": [
        "import types\n",
        "\n",
        "# print all types defined in the `types` module\n",
        "print dir(types)"
      ]
    },
    {
      "cell_type": "code",
      "execution_count": null,
      "metadata": {
        "id": "zc14hTkMz_z6",
        "outputId": "be36ebf8-9f4b-49d8-a8b1-7bde4a930307"
      },
      "outputs": [
        {
          "name": "stdout",
          "output_type": "stream",
          "text": [
            "True\n"
          ]
        }
      ],
      "source": [
        "x = 1.0\n",
        "\n",
        "# check if the variable x is a float\n",
        "print type(x) is float"
      ]
    },
    {
      "cell_type": "code",
      "execution_count": null,
      "metadata": {
        "id": "fBIRHiz1z_z6",
        "outputId": "22d5fac0-9f95-4402-f083-9d17d1b0c932"
      },
      "outputs": [
        {
          "name": "stdout",
          "output_type": "stream",
          "text": [
            "False\n"
          ]
        }
      ],
      "source": [
        "# check if the variable x is an int\n",
        "print type(x) is int"
      ]
    },
    {
      "cell_type": "markdown",
      "metadata": {
        "id": "_SSAApuQz_z7"
      },
      "source": [
        "We can also use the `isinstance` method for testing types of variables:"
      ]
    },
    {
      "cell_type": "code",
      "execution_count": null,
      "metadata": {
        "id": "PZdbMCBfz_z7",
        "outputId": "394a918b-b0b3-45a7-a040-a45685a74d66"
      },
      "outputs": [
        {
          "name": "stdout",
          "output_type": "stream",
          "text": [
            "True\n"
          ]
        }
      ],
      "source": [
        "print isinstance(x, float)"
      ]
    },
    {
      "cell_type": "markdown",
      "metadata": {
        "id": "xnz_ktSGz_z7"
      },
      "source": [
        "### Type casting"
      ]
    },
    {
      "cell_type": "code",
      "execution_count": null,
      "metadata": {
        "id": "eK2M8V6Gz_z7",
        "outputId": "b68d9c82-066c-4a34-c9ec-450bbb200964"
      },
      "outputs": [
        {
          "name": "stdout",
          "output_type": "stream",
          "text": [
            "1.5 <type 'float'>\n"
          ]
        }
      ],
      "source": [
        "x = 1.5\n",
        "print x, type(x)"
      ]
    },
    {
      "cell_type": "code",
      "execution_count": null,
      "metadata": {
        "id": "U_SlFmlCz_z7",
        "outputId": "297fe835-a688-4669-8f92-4e8fbefaa203"
      },
      "outputs": [
        {
          "name": "stdout",
          "output_type": "stream",
          "text": [
            "1 <type 'int'>\n"
          ]
        }
      ],
      "source": [
        "x =int(x)\n",
        "\n",
        "print x, type(x)"
      ]
    },
    {
      "cell_type": "code",
      "execution_count": null,
      "metadata": {
        "id": "DaVmcxewz_z8",
        "outputId": "1aad6f7b-86cd-4047-d24c-bed15c33c4c9"
      },
      "outputs": [
        {
          "name": "stdout",
          "output_type": "stream",
          "text": [
            "(1+0j) <type 'complex'>\n"
          ]
        }
      ],
      "source": [
        "z = complex(x)\n",
        "\n",
        "print z, type(z)"
      ]
    },
    {
      "cell_type": "markdown",
      "metadata": {
        "id": "8z9m8GRQz_z8"
      },
      "source": [
        "Complex variables cannot be cast to floats or integers. We need to use `z.real` or `z.imag` to extract the part of the complex number we want:"
      ]
    },
    {
      "cell_type": "code",
      "execution_count": null,
      "metadata": {
        "id": "1-g86rctz_z8",
        "outputId": "7bfded29-f02a-442f-db8f-c9d3c10f4909"
      },
      "outputs": [
        {
          "name": "stdout",
          "output_type": "stream",
          "text": [
            "1.0  ->  True <type 'bool'>\n",
            "0.0  ->  False <type 'bool'>\n"
          ]
        }
      ],
      "source": [
        "y = bool(z.real)\n",
        "\n",
        "print z.real, \" -> \", y, type(y)\n",
        "\n",
        "y = bool(z.imag)\n",
        "\n",
        "print z.imag, \" -> \", y, type(y)"
      ]
    },
    {
      "cell_type": "markdown",
      "metadata": {
        "id": "9Gf7zQBRz_z8"
      },
      "source": [
        "## Operators and comparisons"
      ]
    },
    {
      "cell_type": "markdown",
      "metadata": {
        "id": "r-1SZJOuz_z8"
      },
      "source": [
        "Most operators and comparisons in Python work as one would expect:\n",
        "\n",
        "* Arithmetic operators `+`, `-`, `*`, `/`, `//` (integer division), '**' power\n"
      ]
    },
    {
      "cell_type": "code",
      "execution_count": null,
      "metadata": {
        "id": "3WjPlqI4z_z8",
        "outputId": "b7115c79-a96e-4678-87bf-c943125506d4"
      },
      "outputs": [
        {
          "name": "stdout",
          "output_type": "stream",
          "text": [
            "3 -1 2 0.5\n",
            "3 -1 2 0.5\n"
          ]
        }
      ],
      "source": [
        "print  (1 + 2, 1 - 2, 1 * 2, 1 / 2) \n",
        "print  (1 + 2, 1 - 2, 1 * 2, 1 / 2)"
      ]
    },
    {
      "cell_type": "code",
      "execution_count": null,
      "metadata": {
        "id": "VoJE_4uOz_z9",
        "outputId": "2696d853-1207-4b40-b1d4-d07930689b93"
      },
      "outputs": [
        {
          "name": "stdout",
          "output_type": "stream",
          "text": [
            "3.0 -1.0 2.0 0.5\n"
          ]
        }
      ],
      "source": [
        "print  1.0 + 2.0, 1.0 - 2.0, 1.0 * 2.0, 1.0 / 2.0"
      ]
    },
    {
      "cell_type": "code",
      "execution_count": null,
      "metadata": {
        "id": "gZo55nFfz_z9",
        "outputId": "24bf15d9-c483-4fb2-890b-7fe068c16bbb"
      },
      "outputs": [
        {
          "name": "stdout",
          "output_type": "stream",
          "text": [
            "1.0\n"
          ]
        }
      ],
      "source": [
        "# Integer division of float numbers\n",
        "print  (3.0 // 2.0)"
      ]
    },
    {
      "cell_type": "code",
      "execution_count": null,
      "metadata": {
        "id": "4I3mciKaz_z9",
        "outputId": "9ef413df-018d-4ee2-feec-98093b7b03b9"
      },
      "outputs": [
        {
          "name": "stdout",
          "output_type": "stream",
          "text": [
            "8\n"
          ]
        }
      ],
      "source": [
        "# Note! The power operators in python isn't ^, but **\n",
        "print (2 ** 3)"
      ]
    },
    {
      "cell_type": "markdown",
      "metadata": {
        "id": "0NNFCxOKz_z9"
      },
      "source": [
        "Note: The `/` operator always performs a floating point division in Python 3.x.\n",
        "This is not true in Python 2.x, where the result of `/` is always an integer if the operands are integers.\n",
        "to be more specific, `1/2 = 0.5` (`float`) in Python 3.x, and `1/2 = 0` (`int`) in Python 2.x (but `1.0/2 = 0.5` in Python 2.x)."
      ]
    },
    {
      "cell_type": "markdown",
      "metadata": {
        "id": "Z1jyBKoJz_z9"
      },
      "source": [
        "* The boolean operators are spelled out as the words `and`, `not`, `or`. "
      ]
    },
    {
      "cell_type": "code",
      "execution_count": null,
      "metadata": {
        "id": "QH640bAYz_z-",
        "outputId": "67b2cbb2-ab07-4a9e-8b22-adcde5f3a4a0"
      },
      "outputs": [
        {
          "name": "stdout",
          "output_type": "stream",
          "text": [
            "False\n"
          ]
        }
      ],
      "source": [
        "print  True and False"
      ]
    },
    {
      "cell_type": "code",
      "execution_count": null,
      "metadata": {
        "id": "BcRbnV7pz_z-",
        "outputId": "11d39ccf-a798-49f8-adb1-5325511c1e23"
      },
      "outputs": [
        {
          "name": "stdout",
          "output_type": "stream",
          "text": [
            "True\n"
          ]
        }
      ],
      "source": [
        "print not False"
      ]
    },
    {
      "cell_type": "code",
      "execution_count": null,
      "metadata": {
        "id": "5WkHX0Ghz_z-",
        "outputId": "2b56b390-4db3-421b-e821-d89e3aaa8108"
      },
      "outputs": [
        {
          "name": "stdout",
          "output_type": "stream",
          "text": [
            "True\n"
          ]
        }
      ],
      "source": [
        "print True or False"
      ]
    },
    {
      "cell_type": "markdown",
      "metadata": {
        "id": "uZok97nHz_z-"
      },
      "source": [
        "* Comparison operators `>`, `<`, `>=` (greater or equal), `<=` (less or equal), `==` equality, `is` identical."
      ]
    },
    {
      "cell_type": "code",
      "execution_count": null,
      "metadata": {
        "id": "qySj1bh0z_z-",
        "outputId": "2557a3b6-6db9-4ae8-f710-8c0a0bd3c9cf"
      },
      "outputs": [
        {
          "name": "stdout",
          "output_type": "stream",
          "text": [
            "True False\n"
          ]
        }
      ],
      "source": [
        "print  2 > 1, 2 < 1"
      ]
    },
    {
      "cell_type": "code",
      "execution_count": null,
      "metadata": {
        "id": "TNYYXEVtz_z_",
        "outputId": "e1207d83-04d0-40ed-bd38-2686d246635b"
      },
      "outputs": [
        {
          "name": "stdout",
          "output_type": "stream",
          "text": [
            "False False\n"
          ]
        }
      ],
      "source": [
        "print  2 > 2, 2 < 2"
      ]
    },
    {
      "cell_type": "code",
      "execution_count": null,
      "metadata": {
        "id": "vZax4fGDz_z_",
        "outputId": "5c26c29e-ddaa-4367-a5bd-fdb0adbc35df"
      },
      "outputs": [
        {
          "name": "stdout",
          "output_type": "stream",
          "text": [
            "True True\n"
          ]
        }
      ],
      "source": [
        "print 2 >= 2, 2 <= 2"
      ]
    },
    {
      "cell_type": "code",
      "execution_count": null,
      "metadata": {
        "id": "hBtyuKkZz_z_",
        "outputId": "adccb017-f267-420c-a27d-7f7f8a867dde"
      },
      "outputs": [
        {
          "name": "stdout",
          "output_type": "stream",
          "text": [
            "False\n"
          ]
        }
      ],
      "source": [
        "# equality\n",
        "print ([1,2] == [1,2,3])"
      ]
    },
    {
      "cell_type": "code",
      "execution_count": null,
      "metadata": {
        "id": "Fi9ZYCbLz_z_",
        "outputId": "4ad7bde7-d90e-40bf-8d22-442965f0ef50"
      },
      "outputs": [
        {
          "name": "stdout",
          "output_type": "stream",
          "text": [
            "True\n"
          ]
        }
      ],
      "source": [
        "# objects identical?\n",
        "l1 = l2 = [1,2]\n",
        "\n",
        "print  l1 is l2"
      ]
    },
    {
      "cell_type": "markdown",
      "metadata": {
        "id": "cWVYw6u9z_z_"
      },
      "source": [
        "## Compound types: Strings, List and dictionaries"
      ]
    },
    {
      "cell_type": "markdown",
      "metadata": {
        "id": "TQe0Jcvqz_0A"
      },
      "source": [
        "### Strings"
      ]
    },
    {
      "cell_type": "markdown",
      "metadata": {
        "id": "Ng23tEXpz_0A"
      },
      "source": [
        "Strings are the variable type that is used for storing text messages. "
      ]
    },
    {
      "cell_type": "code",
      "execution_count": null,
      "metadata": {
        "id": "_9iwfKfUz_0A",
        "outputId": "7941fbc2-0274-472b-c042-6658738b9f25"
      },
      "outputs": [
        {
          "name": "stdout",
          "output_type": "stream",
          "text": [
            "<class 'str'>\n"
          ]
        },
        {
          "data": {
            "text/plain": [
              "' ot d'"
            ]
          },
          "execution_count": 14,
          "metadata": {},
          "output_type": "execute_result"
        }
      ],
      "source": [
        "s = \"Hello world to world to word\"\n",
        "print (type(s))\n",
        "s[-5:-10:-1]"
      ]
    },
    {
      "cell_type": "code",
      "execution_count": null,
      "metadata": {
        "id": "TB3M1-mBz_0A",
        "outputId": "4925b6f6-f585-490d-ff8a-6c295f34951a"
      },
      "outputs": [
        {
          "name": "stdout",
          "output_type": "stream",
          "text": [
            "20\n"
          ]
        }
      ],
      "source": [
        "# length of the string: the number of characters\n",
        "print (len(s))"
      ]
    },
    {
      "cell_type": "code",
      "execution_count": null,
      "metadata": {
        "id": "0G-v8jEyz_0A",
        "outputId": "50f3fc3b-c09a-470f-c2ea-7b0b6e14eb66"
      },
      "outputs": [
        {
          "name": "stdout",
          "output_type": "stream",
          "text": [
            "Hello test to world\n"
          ]
        }
      ],
      "source": [
        "# replace a substring in a string with somethign else\n",
        "s2 = s.replace(\"world\", \"test\")\n",
        "print (s2)"
      ]
    },
    {
      "cell_type": "markdown",
      "metadata": {
        "id": "XWBgNxbRz_0A"
      },
      "source": [
        "We can index a character in a string using `[]`:"
      ]
    },
    {
      "cell_type": "code",
      "execution_count": null,
      "metadata": {
        "id": "tbXWxj_Oz_0B",
        "outputId": "64dd2f6d-510a-4e03-eb4a-173b23d250f3"
      },
      "outputs": [
        {
          "name": "stdout",
          "output_type": "stream",
          "text": [
            "o\n"
          ]
        }
      ],
      "source": [
        "print (s[4])"
      ]
    },
    {
      "cell_type": "markdown",
      "metadata": {
        "id": "6ClynnmQz_0B"
      },
      "source": [
        "**Heads up MATLAB users:** Indexing start at 0!\n",
        "\n",
        "We can extract a part of a string using the syntax `[start:stop]`, which extracts characters between index `start` and `stop` -1 (the character at index `stop` is not included):"
      ]
    },
    {
      "cell_type": "code",
      "execution_count": null,
      "metadata": {
        "id": "6tUvTi2fz_0B",
        "outputId": "20862dc4-1a37-4089-f588-abbf0283eb4c"
      },
      "outputs": [
        {
          "name": "stdout",
          "output_type": "stream",
          "text": [
            "Hello \n"
          ]
        }
      ],
      "source": [
        "print (s[0:6])"
      ]
    },
    {
      "cell_type": "code",
      "execution_count": null,
      "metadata": {
        "id": "LWiwoLfBz_0B",
        "outputId": "deade9fa-3c29-486f-9411-36d7ec23e361"
      },
      "outputs": [
        {
          "name": "stdout",
          "output_type": "stream",
          "text": [
            "lo\n"
          ]
        }
      ],
      "source": [
        "print (s[3:5])"
      ]
    },
    {
      "cell_type": "markdown",
      "metadata": {
        "id": "9nfoopTrz_0B"
      },
      "source": [
        "If we omit either (or both) of `start` or `stop` from `[start:stop]`, the default is the beginning and the end of the string, respectively:"
      ]
    },
    {
      "cell_type": "code",
      "execution_count": null,
      "metadata": {
        "id": "marxYzw3z_0B",
        "outputId": "538bcfa6-c439-4d80-d963-89a7d4ea97e7"
      },
      "outputs": [
        {
          "name": "stdout",
          "output_type": "stream",
          "text": [
            "Hello\n"
          ]
        }
      ],
      "source": [
        "print (s[:5:1])"
      ]
    },
    {
      "cell_type": "code",
      "execution_count": null,
      "metadata": {
        "id": "cUPaaPrNz_0C",
        "outputId": "73508607-2d59-4dd7-e74c-7fdb7b946dc5"
      },
      "outputs": [
        {
          "name": "stdout",
          "output_type": "stream",
          "text": [
            "drwolH\n"
          ]
        }
      ],
      "source": [
        "print (s[::-2])"
      ]
    },
    {
      "cell_type": "code",
      "execution_count": null,
      "metadata": {
        "id": "VleJht3Zz_0C",
        "outputId": "a56c0926-8959-4e2c-bb80-12ed567226e8"
      },
      "outputs": [
        {
          "name": "stdout",
          "output_type": "stream",
          "text": [
            "Hello world\n"
          ]
        }
      ],
      "source": [
        "print  s[:]"
      ]
    },
    {
      "cell_type": "markdown",
      "metadata": {
        "id": "lLlkYKZNz_0C"
      },
      "source": [
        "We can also define the step size using the syntax `[start:end:step]` (the default value for `step` is 1, as we saw above):"
      ]
    },
    {
      "cell_type": "code",
      "execution_count": null,
      "metadata": {
        "id": "G2yH9oW2z_0C",
        "outputId": "dd875dc5-c0e0-4499-e639-5f02b5ffaa01"
      },
      "outputs": [
        {
          "name": "stdout",
          "output_type": "stream",
          "text": [
            "Hello world\n"
          ]
        }
      ],
      "source": [
        "print s[::1]"
      ]
    },
    {
      "cell_type": "code",
      "execution_count": null,
      "metadata": {
        "id": "aH_BFxxsz_0D",
        "outputId": "a5bbccf1-2d69-4af0-92fc-281ae729ffbf"
      },
      "outputs": [
        {
          "name": "stdout",
          "output_type": "stream",
          "text": [
            "He\n"
          ]
        }
      ],
      "source": [
        "print s[:2:1]"
      ]
    },
    {
      "cell_type": "markdown",
      "metadata": {
        "id": "haDQ2Ybez_0D"
      },
      "source": [
        "This technique is called *slicing*. Read more about the syntax here: http://docs.python.org/release/2.7.3/library/functions.html?highlight=slice#slice"
      ]
    },
    {
      "cell_type": "markdown",
      "metadata": {
        "id": "jHU_DaNfz_0D"
      },
      "source": [
        "Python has a very rich set of functions for text processing. See for example http://docs.python.org/2/library/string.html for more information."
      ]
    },
    {
      "cell_type": "markdown",
      "metadata": {
        "id": "Mq6g-NgIz_0E"
      },
      "source": [
        "#### String formatting examples"
      ]
    },
    {
      "cell_type": "code",
      "execution_count": null,
      "metadata": {
        "id": "h4Qm9CF4z_0E",
        "outputId": "9aef4fc3-2d1b-4f4e-c07d-00ea9d662b1b"
      },
      "outputs": [
        {
          "name": "stdout",
          "output_type": "stream",
          "text": [
            "str1 str2 str3\n"
          ]
        }
      ],
      "source": [
        "print \"str1\", \"str2\", \"str3\"  # The print statement concatenates strings with a space"
      ]
    },
    {
      "cell_type": "code",
      "execution_count": null,
      "metadata": {
        "id": "S6kwanOsz_0E",
        "outputId": "83515a9d-5f72-495c-9154-474315864220"
      },
      "outputs": [
        {
          "name": "stdout",
          "output_type": "stream",
          "text": [
            "str1 1.0 False -1j\n"
          ]
        }
      ],
      "source": [
        "print \"str1\", 1.0, False, -1j  # The print statements converts all arguments to strings"
      ]
    },
    {
      "cell_type": "code",
      "execution_count": null,
      "metadata": {
        "id": "3MdXZ4Q-z_0E",
        "outputId": "ddd35056-f683-46f0-de18-e79338c0d5e8"
      },
      "outputs": [
        {
          "name": "stdout",
          "output_type": "stream",
          "text": [
            "str1str2str3\n"
          ]
        }
      ],
      "source": [
        "print \"str1\" + \"str2\" + \"str3\" # strings added with + are concatenated without space"
      ]
    },
    {
      "cell_type": "code",
      "execution_count": null,
      "metadata": {
        "id": "cF_GeAcrz_0F"
      },
      "outputs": [],
      "source": [
        "print \"value = %f\" % 1.0       # we can use C-style string formatting"
      ]
    },
    {
      "cell_type": "code",
      "execution_count": null,
      "metadata": {
        "id": "IXNNPNmoz_0F",
        "outputId": "3c58a139-1752-40f0-fe7f-d59534ac2d5d"
      },
      "outputs": [
        {
          "name": "stdout",
          "output_type": "stream",
          "text": [
            "value1 = 3.14. value2 = 1\n"
          ]
        }
      ],
      "source": [
        "# this formatting creates a string\n",
        "s2 = \"value1 = %.2f. value2 = %d\" % (3.1415, 1.5)\n",
        "\n",
        "print s2 "
      ]
    },
    {
      "cell_type": "code",
      "execution_count": null,
      "metadata": {
        "id": "BAYcbKb-z_0F",
        "outputId": "4f47e7a0-593e-41aa-a4c3-e355164cc770"
      },
      "outputs": [
        {
          "name": "stdout",
          "output_type": "stream",
          "text": [
            "value1 = 3.1415, value2 = 1.5\n"
          ]
        }
      ],
      "source": [
        "# alternative, more intuitive way of formatting a string \n",
        "s3 = 'value1 = {0}, value2 = {1}'.format(3.1415, 1.5)\n",
        "\n",
        "print s3"
      ]
    },
    {
      "cell_type": "markdown",
      "metadata": {
        "id": "th82gqBoz_0G"
      },
      "source": [
        "### List"
      ]
    },
    {
      "cell_type": "markdown",
      "metadata": {
        "id": "4XsyQDgAz_0G"
      },
      "source": [
        "Lists are very similar to strings, except that each element can be of any type.\n",
        "\n",
        "The syntax for creating lists in Python is `[...]`:"
      ]
    },
    {
      "cell_type": "code",
      "execution_count": null,
      "metadata": {
        "id": "nrbWE7Amz_0H",
        "outputId": "07b72362-6dd2-4c60-d6fd-c660d4d01721"
      },
      "outputs": [
        {
          "name": "stdout",
          "output_type": "stream",
          "text": [
            "<type 'list'>\n",
            "[1, 2, 3, 4]\n"
          ]
        }
      ],
      "source": [
        "l = [1,2,3,4]\n",
        "print type(l)\n",
        "print l"
      ]
    },
    {
      "cell_type": "markdown",
      "metadata": {
        "id": "uSiVv58Cz_0H"
      },
      "source": [
        "We can use the same slicing techniques to manipulate lists as we could use on strings:"
      ]
    },
    {
      "cell_type": "code",
      "execution_count": null,
      "metadata": {
        "id": "rSPCMFoJz_0H",
        "outputId": "74f4ae6b-46a3-423e-a190-10e488ede225"
      },
      "outputs": [
        {
          "name": "stdout",
          "output_type": "stream",
          "text": [
            "[1, 2, 3, 4]\n",
            "[2, 3]\n",
            "[1, 3]\n"
          ]
        }
      ],
      "source": [
        "print l\n",
        "\n",
        "print l[1:3] \n",
        "\n",
        "print l[::2] "
      ]
    },
    {
      "cell_type": "markdown",
      "metadata": {
        "id": "ET0VF4rWz_0I"
      },
      "source": [
        "**Heads up MATLAB users:** Indexing starts at 0!"
      ]
    },
    {
      "cell_type": "code",
      "execution_count": null,
      "metadata": {
        "id": "hn43TpB6z_0I",
        "outputId": "700a09da-6ff1-4d1b-e4d0-d8542728eda6"
      },
      "outputs": [
        {
          "name": "stdout",
          "output_type": "stream",
          "text": [
            "1\n"
          ]
        }
      ],
      "source": [
        "print l[0]"
      ]
    },
    {
      "cell_type": "markdown",
      "metadata": {
        "id": "ad_3dXbzz_0I"
      },
      "source": [
        "Elements in a list do not all have to be of the same type:"
      ]
    },
    {
      "cell_type": "code",
      "execution_count": null,
      "metadata": {
        "id": "yOEySMuaz_0I",
        "outputId": "88c6e979-ecd0-4a13-dbef-8ccb7d5ab490"
      },
      "outputs": [
        {
          "name": "stdout",
          "output_type": "stream",
          "text": [
            "[1, 'a', 1.0, (1-1j)]\n"
          ]
        }
      ],
      "source": [
        "l = [1, 'a', 1.0, 1-1j]\n",
        "\n",
        "print l "
      ]
    },
    {
      "cell_type": "markdown",
      "metadata": {
        "id": "15dcg0bgz_0I"
      },
      "source": [
        "Python lists can be inhomogeneous and arbitrarily nested:"
      ]
    },
    {
      "cell_type": "code",
      "execution_count": null,
      "metadata": {
        "id": "R9P5EGVsz_0I",
        "outputId": "7cf0dae6-ff8b-4db8-b901-c5a43c47603b"
      },
      "outputs": [
        {
          "name": "stdout",
          "output_type": "stream",
          "text": [
            "[1, [2, [3, [4, [5]]]]]\n"
          ]
        }
      ],
      "source": [
        "nested_list = [1, [2, [3, [4, [5]]]]]\n",
        "\n",
        "print nested_list"
      ]
    },
    {
      "cell_type": "markdown",
      "metadata": {
        "id": "Z0OP-4ULz_0J"
      },
      "source": [
        "Lists play a very important role in Python. For example they are used in loops and other flow control structures (discussed below). There are a number of convenient functions for generating lists of various types, for example the `range` function:"
      ]
    },
    {
      "cell_type": "code",
      "execution_count": null,
      "metadata": {
        "id": "fGnB4xMlz_0J",
        "outputId": "6698085f-c307-4939-d58f-e73a64156207"
      },
      "outputs": [
        {
          "name": "stdout",
          "output_type": "stream",
          "text": [
            "[10, 12, 14, 16, 18, 20, 22, 24, 26, 28]\n"
          ]
        }
      ],
      "source": [
        "start = 10\n",
        "stop = 30\n",
        "step = 2\n",
        "\n",
        "print range(start, stop, step)"
      ]
    },
    {
      "cell_type": "code",
      "execution_count": null,
      "metadata": {
        "id": "O1W7DccEz_0J",
        "outputId": "670db919-0d8c-4870-fbf5-7d863bddc7c6"
      },
      "outputs": [
        {
          "name": "stdout",
          "output_type": "stream",
          "text": [
            "[10, 12, 14, 16, 18, 20, 22, 24, 26, 28]\n"
          ]
        }
      ],
      "source": [
        "# in python 3 range generates an interator, which can be converted to a list using 'list(...)'.\n",
        "# It has no effect in python 2\n",
        "print list(range(start, stop, step))"
      ]
    },
    {
      "cell_type": "code",
      "execution_count": null,
      "metadata": {
        "id": "_vza_Lzsz_0J",
        "outputId": "79f9de4a-5bdd-4983-ab83-cc47aa5586ef"
      },
      "outputs": [
        {
          "name": "stdout",
          "output_type": "stream",
          "text": [
            "[-10, -9, -8, -7, -6, -5, -4, -3, -2, -1, 0, 1, 2, 3, 4, 5, 6, 7, 8, 9]\n"
          ]
        }
      ],
      "source": [
        "print list(range(-10, 10))"
      ]
    },
    {
      "cell_type": "code",
      "execution_count": null,
      "metadata": {
        "id": "argwl0GKz_0J",
        "outputId": "4dc84866-33fc-4443-a402-0068448c22eb"
      },
      "outputs": [
        {
          "name": "stdout",
          "output_type": "stream",
          "text": [
            "Hello World\n"
          ]
        }
      ],
      "source": [
        "s='Hello World'\n",
        "print (s)"
      ]
    },
    {
      "cell_type": "code",
      "execution_count": null,
      "metadata": {
        "id": "JgDZOUZiz_0J",
        "outputId": "ad6315bc-ff42-4711-a4dc-593697233709"
      },
      "outputs": [
        {
          "name": "stdout",
          "output_type": "stream",
          "text": [
            "['H', 'e', 'l', 'l', 'o', ' ', 'w', 'o', 'r', 'l', 'd']\n"
          ]
        }
      ],
      "source": [
        "# convert a string to a list by type casting:\n",
        "s2 = list(s)\n",
        "\n",
        "print s2"
      ]
    },
    {
      "cell_type": "code",
      "execution_count": null,
      "metadata": {
        "id": "z3dPFqJIz_0K",
        "outputId": "52db799b-26ac-409e-b568-0e2c77025d20"
      },
      "outputs": [
        {
          "ename": "AttributeError",
          "evalue": "'str' object has no attribute 'sort'",
          "output_type": "error",
          "traceback": [
            "\u001b[1;31m---------------------------------------------------------------------------\u001b[0m",
            "\u001b[1;31mAttributeError\u001b[0m                            Traceback (most recent call last)",
            "\u001b[1;32m~\\AppData\\Local\\Temp/ipykernel_11904/1495473538.py\u001b[0m in \u001b[0;36m<module>\u001b[1;34m\u001b[0m\n\u001b[0;32m      1\u001b[0m \u001b[1;31m# sorting lists\u001b[0m\u001b[1;33m\u001b[0m\u001b[1;33m\u001b[0m\u001b[0m\n\u001b[1;32m----> 2\u001b[1;33m \u001b[0ms2\u001b[0m\u001b[1;33m.\u001b[0m\u001b[0msort\u001b[0m\u001b[1;33m(\u001b[0m\u001b[1;33m)\u001b[0m\u001b[1;33m\u001b[0m\u001b[1;33m\u001b[0m\u001b[0m\n\u001b[0m\u001b[0;32m      3\u001b[0m \u001b[0mprint\u001b[0m \u001b[1;33m(\u001b[0m\u001b[0ms2\u001b[0m\u001b[1;33m)\u001b[0m\u001b[1;33m\u001b[0m\u001b[1;33m\u001b[0m\u001b[0m\n",
            "\u001b[1;31mAttributeError\u001b[0m: 'str' object has no attribute 'sort'"
          ]
        }
      ],
      "source": [
        "# sorting lists\n",
        "print (s2) "
      ]
    },
    {
      "cell_type": "markdown",
      "metadata": {
        "id": "kCfMJJQ6z_0K"
      },
      "source": [
        "#### Adding, inserting, modifying, and removing elements from lists"
      ]
    },
    {
      "cell_type": "code",
      "execution_count": null,
      "metadata": {
        "id": "rl7oureHz_0K",
        "outputId": "cb2565df-cf4d-4965-fcc9-5e2301231eca"
      },
      "outputs": [
        {
          "name": "stdout",
          "output_type": "stream",
          "text": [
            "['A', 'd', 'd']\n"
          ]
        }
      ],
      "source": [
        "# create a new empty list\n",
        "l = []\n",
        "\n",
        "# add an elements using `append`\n",
        "l.append(\"A\")\n",
        "l.append(\"d\")\n",
        "l.append(\"d\")\n",
        "\n",
        "print l"
      ]
    },
    {
      "cell_type": "markdown",
      "metadata": {
        "id": "-DqvnxYZz_0K"
      },
      "source": [
        "We can modify lists by assigning new values to elements in the list. In technical jargon, lists are *mutable*."
      ]
    },
    {
      "cell_type": "code",
      "execution_count": null,
      "metadata": {
        "id": "lOMszfgiz_0K",
        "outputId": "e68e3955-7a1d-471c-e2a5-6282b7e02c26"
      },
      "outputs": [
        {
          "name": "stdout",
          "output_type": "stream",
          "text": [
            "['A', 'p', 'p']\n"
          ]
        }
      ],
      "source": [
        "l[1] = \"p\"\n",
        "l[2] = \"p\"\n",
        "\n",
        "print l"
      ]
    },
    {
      "cell_type": "code",
      "execution_count": null,
      "metadata": {
        "id": "tNYziv34z_0L",
        "outputId": "9967b441-41cc-4669-9ad3-3cba48233e63"
      },
      "outputs": [
        {
          "name": "stdout",
          "output_type": "stream",
          "text": [
            "['A', 'd', 'd']\n"
          ]
        }
      ],
      "source": [
        "l[1:3] = [\"d\", \"d\"]\n",
        "\n",
        "print l"
      ]
    },
    {
      "cell_type": "markdown",
      "metadata": {
        "id": "0znR4i22z_0L"
      },
      "source": [
        "Insert an element at an specific index using `insert`"
      ]
    },
    {
      "cell_type": "code",
      "execution_count": null,
      "metadata": {
        "id": "0ooaFw4Fz_0L",
        "outputId": "6e93ed0a-2e22-468f-c47c-963f641b5fa7"
      },
      "outputs": [
        {
          "name": "stdout",
          "output_type": "stream",
          "text": [
            "['i', 'n', 's', 'e', 'r', 't', 'A', 'd', 'd']\n"
          ]
        }
      ],
      "source": [
        "l.insert(0, \"i\")\n",
        "l.insert(1, \"n\")\n",
        "l.insert(2, \"s\")\n",
        "l.insert(3, \"e\")\n",
        "l.insert(4, \"r\")\n",
        "l.insert(5, \"t\")\n",
        "\n",
        "print l"
      ]
    },
    {
      "cell_type": "markdown",
      "metadata": {
        "id": "wIzC7qiez_0L"
      },
      "source": [
        "Remove first element with specific value using 'remove'"
      ]
    },
    {
      "cell_type": "code",
      "execution_count": null,
      "metadata": {
        "id": "L_uhHK33z_0L",
        "outputId": "3a129fc5-07be-4fb6-ed14-da56a53587fe"
      },
      "outputs": [
        {
          "name": "stdout",
          "output_type": "stream",
          "text": [
            "['i', 'n', 's', 'e', 'r', 't', 'd', 'd']\n"
          ]
        }
      ],
      "source": [
        "l.remove(\"A\")\n",
        "\n",
        "print l"
      ]
    },
    {
      "cell_type": "markdown",
      "metadata": {
        "id": "dHF98B5nz_0L"
      },
      "source": [
        "Remove an element at a specific location using `del`:"
      ]
    },
    {
      "cell_type": "code",
      "execution_count": null,
      "metadata": {
        "id": "o7I1fTOfz_0L",
        "outputId": "951a5b88-18bd-454d-96ac-fbfb9a1e4f90"
      },
      "outputs": [
        {
          "name": "stdout",
          "output_type": "stream",
          "text": [
            "['i', 'n', 's', 'e', 'r', 't']\n"
          ]
        }
      ],
      "source": [
        "del l[7]\n",
        "del l[6]\n",
        "\n",
        "print l"
      ]
    },
    {
      "cell_type": "markdown",
      "metadata": {
        "id": "NJhpJDd4z_0M"
      },
      "source": [
        "See `help(list)` for more details, or read the online documentation "
      ]
    },
    {
      "cell_type": "markdown",
      "metadata": {
        "id": "uMI1mAx3z_0M"
      },
      "source": [
        "### Tuples"
      ]
    },
    {
      "cell_type": "markdown",
      "metadata": {
        "id": "WU7Z8HZNz_0M"
      },
      "source": [
        "Tuples are like lists, except that they cannot be modified once created, that is they are *immutable*. \n",
        "\n",
        "In Python, tuples are created using the syntax `(..., ..., ...)`, or even `..., ...`:"
      ]
    },
    {
      "cell_type": "code",
      "execution_count": null,
      "metadata": {
        "id": "1MPkIcMXz_0M",
        "outputId": "a3646449-c9b3-464e-b600-382cf0b44313"
      },
      "outputs": [
        {
          "name": "stdout",
          "output_type": "stream",
          "text": [
            "(10,) <class 'tuple'>\n"
          ]
        }
      ],
      "source": [
        "point = (10,)\n",
        "\n",
        "print (point, type(point))"
      ]
    },
    {
      "cell_type": "code",
      "execution_count": null,
      "metadata": {
        "id": "7aNGuHc3z_0M",
        "outputId": "3296fb8a-f33f-44b8-9915-cd1e3be2a085"
      },
      "outputs": [
        {
          "name": "stdout",
          "output_type": "stream",
          "text": [
            "(10, 20) <class 'tuple'>\n"
          ]
        }
      ],
      "source": [
        "point = 10, 20\n",
        "\n",
        "print (point, type(point))"
      ]
    },
    {
      "cell_type": "markdown",
      "metadata": {
        "id": "9the_PQwz_0M"
      },
      "source": [
        "We can unpack a tuple by assigning it to a comma-separated list of variables:"
      ]
    },
    {
      "cell_type": "code",
      "execution_count": null,
      "metadata": {
        "id": "HNTqmZe7z_0N",
        "outputId": "edfeef41-c505-462b-f9dc-369cff996147"
      },
      "outputs": [
        {
          "name": "stdout",
          "output_type": "stream",
          "text": [
            "x = 10\n",
            "y = 20\n"
          ]
        }
      ],
      "source": [
        "x, y = point\n",
        "\n",
        "print (\"x =\", x)\n",
        "print (\"y =\", y)"
      ]
    },
    {
      "cell_type": "code",
      "execution_count": null,
      "metadata": {
        "id": "VYURheUHz_0O",
        "outputId": "71689f06-6324-482f-cde8-35981d95ba8c"
      },
      "outputs": [
        {
          "name": "stdout",
          "output_type": "stream",
          "text": [
            "(10, 'Hello World', 10.4)\n"
          ]
        }
      ],
      "source": [
        "# tuple with mixed datatypes\n",
        "my_tuple = (10, \"Hello World\", 10.4)\n",
        "print(my_tuple)"
      ]
    },
    {
      "cell_type": "code",
      "execution_count": null,
      "metadata": {
        "id": "W9ITF42Oz_0P",
        "outputId": "03bb8b7b-a33a-4872-f360-8f7e82263fe1"
      },
      "outputs": [
        {
          "name": "stdout",
          "output_type": "stream",
          "text": [
            "<class 'tuple'>\n"
          ]
        }
      ],
      "source": [
        "# Create Tuple With One Item\n",
        "tupl = (\"hello\",)\n",
        "print(type(tupl))"
      ]
    },
    {
      "cell_type": "code",
      "execution_count": null,
      "metadata": {
        "id": "wcuwXCQ4z_0P",
        "outputId": "969cb865-3e27-4fdb-e877-8572c3b7a2fa"
      },
      "outputs": [
        {
          "name": "stdout",
          "output_type": "stream",
          "text": [
            "a\n",
            "g\n",
            "f\n",
            "o\n",
            "4\n"
          ]
        }
      ],
      "source": [
        "# Accessing tuple elements using indexing\n",
        "my_tuple = ('a','s','d','f','g')\n",
        "\n",
        "print(my_tuple[0])   # 'a' \n",
        "print(my_tuple[4])   # 'g'\n",
        "#negative indexing\n",
        "print(my_tuple[-2])\n",
        "# nested tuple\n",
        "n_tuple = (\"hello\", [8, 4, 6], (1, 2, 3))\n",
        "\n",
        "# nested index\n",
        "print(n_tuple[0][4])       # 'o'\n",
        "print(n_tuple[1][1])       # 4\n",
        "\n"
      ]
    },
    {
      "cell_type": "markdown",
      "metadata": {
        "id": "VhKvLAkRz_0P"
      },
      "source": [
        "If we try to assign a new value to an element in a tuple we get an error:"
      ]
    },
    {
      "cell_type": "code",
      "execution_count": null,
      "metadata": {
        "id": "4ec2SYFXz_0P",
        "outputId": "023283b9-c405-43a4-da61-490f3857455e"
      },
      "outputs": [
        {
          "name": "stdout",
          "output_type": "stream",
          "text": [
            "(1, 2, 3, [4, 9])\n"
          ]
        }
      ],
      "source": [
        "# my_tuple[1] = 9\n",
        "\n",
        "my_tuple2 = (1, 2, 3, [4, 5])\n",
        "my_tuple2[3][1] = 9 \n",
        "print(my_tuple2)"
      ]
    },
    {
      "cell_type": "code",
      "execution_count": null,
      "metadata": {
        "id": "At0_crm8z_0P"
      },
      "outputs": [],
      "source": [
        "#can't delete items\n",
        "del my_tuple2[3][1]"
      ]
    },
    {
      "cell_type": "code",
      "execution_count": null,
      "metadata": {
        "id": "SONtTTakz_0P",
        "outputId": "73010a4b-ca01-4453-dbc0-6a795d9bf8ba"
      },
      "outputs": [
        {
          "data": {
            "text/plain": [
              "(1, 2, 3, [4])"
            ]
          },
          "execution_count": 55,
          "metadata": {},
          "output_type": "execute_result"
        }
      ],
      "source": [
        "my_tuple2"
      ]
    },
    {
      "cell_type": "markdown",
      "metadata": {
        "id": "_nZac-dLz_0Q"
      },
      "source": [
        "### Dictionaries"
      ]
    },
    {
      "cell_type": "markdown",
      "metadata": {
        "id": "f7OnBJ_5z_0Q"
      },
      "source": [
        "Dictionaries are also like lists, except that each element is a key-value pair. The syntax for dictionaries is `{key1 : value1, ...}`:\n",
        " Dictionaries do not allow duplicates."
      ]
    },
    {
      "cell_type": "code",
      "execution_count": null,
      "metadata": {
        "id": "I5EIzxutz_0Q",
        "outputId": "fe934296-2c67-4a1c-8cf5-d0777c453e27"
      },
      "outputs": [
        {
          "name": "stdout",
          "output_type": "stream",
          "text": [
            "<class 'dict'>\n",
            "{'parameter1': 1.0, 'parameter2': 2.0, 'parameter3': 3.0}\n"
          ]
        }
      ],
      "source": [
        "params = {\"parameter1\" : 1.0,\n",
        "          \"parameter2\" : 2.0,\n",
        "          \"parameter3\" : 3.0,}\n",
        "\n",
        "print (type(params))\n",
        "print (params)"
      ]
    },
    {
      "cell_type": "markdown",
      "metadata": {
        "id": "uMdiW7rPz_0Q"
      },
      "source": [
        "We can access the values using keys"
      ]
    },
    {
      "cell_type": "code",
      "execution_count": null,
      "metadata": {
        "id": "dlgO1hQ2z_0Q",
        "outputId": "7169e409-759b-4646-983d-37c36ccd5464"
      },
      "outputs": [
        {
          "name": "stdout",
          "output_type": "stream",
          "text": [
            "1.0\n",
            "2.0\n",
            "3.0\n"
          ]
        }
      ],
      "source": [
        "print (params[\"parameter1\"])\n",
        "print (params[\"parameter2\"]) \n",
        "print (params[\"parameter3\"])"
      ]
    },
    {
      "cell_type": "code",
      "execution_count": null,
      "metadata": {
        "id": "IJzf3uFuz_0Q",
        "outputId": "21cab175-ad5c-4157-90c6-1fa841ef562f"
      },
      "outputs": [
        {
          "name": "stdout",
          "output_type": "stream",
          "text": [
            "parameter1 =  A\n",
            "parameter2 =  B\n",
            "parameter3 =  3.0\n",
            "parameter4 =  D\n"
          ]
        }
      ],
      "source": [
        "#Updating\n",
        "params[\"parameter1\"] = \"A\"\n",
        "params[\"parameter2\"] = \"B\"\n",
        "\n",
        "# add a new entry\n",
        "params[\"parameter4\"] = \"D\"\n",
        "\n",
        "print (\"parameter1 = \",  params[\"parameter1\"])\n",
        "print (\"parameter2 = \",  params[\"parameter2\"])\n",
        "print (\"parameter3 = \",  params[\"parameter3\"])\n",
        "print (\"parameter4 = \",  params[\"parameter4\"])"
      ]
    },
    {
      "cell_type": "markdown",
      "metadata": {
        "id": "B0_LGIy7z_0R"
      },
      "source": [
        "If the key dost not exists, it will through an exception"
      ]
    },
    {
      "cell_type": "code",
      "execution_count": null,
      "metadata": {
        "id": "gZpEdriOz_0R"
      },
      "outputs": [],
      "source": [
        "print (\"parameter5 = \",  params[\"parameter5\"])"
      ]
    },
    {
      "cell_type": "code",
      "execution_count": null,
      "metadata": {
        "id": "LycKSU1Oz_0R",
        "outputId": "a1a2ee40-c959-4093-eca4-f913aad90a25"
      },
      "outputs": [
        {
          "name": "stdout",
          "output_type": "stream",
          "text": [
            "{'brand': ['Apple', 'Samsung'], 'model': '13 pro', 'year': 2022}\n"
          ]
        }
      ],
      "source": [
        "#Duplicates are not allowed\n",
        "thisdict = {\n",
        "  \"brand\": [\"Apple\",\"Samsung\"],\n",
        "  \"model\": \"13 pro\",\n",
        "  \"year\": 2021,\n",
        "  \"year\": 2022\n",
        "}\n",
        "print(thisdict)"
      ]
    },
    {
      "cell_type": "code",
      "execution_count": null,
      "metadata": {
        "id": "EDUJgcQ8z_0S",
        "outputId": "8e5d1c3f-2256-473d-f397-90c57117d1c7"
      },
      "outputs": [
        {
          "data": {
            "text/plain": [
              "dict_keys(['brand', 'model', 'year'])"
            ]
          },
          "execution_count": 25,
          "metadata": {},
          "output_type": "execute_result"
        }
      ],
      "source": [
        "thisdict.keys()"
      ]
    },
    {
      "cell_type": "code",
      "execution_count": null,
      "metadata": {
        "id": "QoZz5Algz_0S",
        "outputId": "19c9d7bb-5c4f-46d7-e0b5-3f4fcb503f0c"
      },
      "outputs": [
        {
          "data": {
            "text/plain": [
              "dict_values([['Apple', 'Samsung'], '13 pro', 2022])"
            ]
          },
          "execution_count": 26,
          "metadata": {},
          "output_type": "execute_result"
        }
      ],
      "source": [
        "thisdict.values()"
      ]
    },
    {
      "cell_type": "code",
      "execution_count": null,
      "metadata": {
        "id": "uautnRejz_0S",
        "outputId": "9e513391-0767-4b75-aacd-6e74689995d3"
      },
      "outputs": [
        {
          "data": {
            "text/plain": [
              "'Samsung'"
            ]
          },
          "execution_count": 45,
          "metadata": {},
          "output_type": "execute_result"
        }
      ],
      "source": [
        "thisdict.items()\n",
        "#accessing\n",
        "list(thisdict.items())[0][1][1]"
      ]
    },
    {
      "cell_type": "code",
      "execution_count": null,
      "metadata": {
        "id": "F94EHHXfz_0T",
        "outputId": "d4288000-99aa-4691-a9f9-2080e5beeb71"
      },
      "outputs": [
        {
          "data": {
            "text/plain": [
              "'13 pro'"
            ]
          },
          "execution_count": 28,
          "metadata": {},
          "output_type": "execute_result"
        }
      ],
      "source": [
        "thisdict.get('model')"
      ]
    },
    {
      "cell_type": "code",
      "execution_count": null,
      "metadata": {
        "id": "GIZUinNwz_0T",
        "outputId": "0afcff6a-a85c-42fb-9af0-85db2b9c952d"
      },
      "outputs": [
        {
          "data": {
            "text/plain": [
              "{'brand': ['Apple', 'Samsung'], 'model': '13 pro'}"
            ]
          },
          "execution_count": 30,
          "metadata": {},
          "output_type": "execute_result"
        }
      ],
      "source": [
        "# Removes a key from a dictionary, if it is present, and returns its value.\n",
        "# thisdict.pop('year')\n",
        "thisdict"
      ]
    },
    {
      "cell_type": "code",
      "execution_count": null,
      "metadata": {
        "id": "xPCdY8QWz_0T",
        "outputId": "13451adb-883a-42b4-cbea-f268c1410b16"
      },
      "outputs": [
        {
          "data": {
            "text/plain": [
              "('model', '13 pro')"
            ]
          },
          "execution_count": 31,
          "metadata": {},
          "output_type": "execute_result"
        }
      ],
      "source": [
        "# Deleting last element\n",
        "thisdict.popitem()"
      ]
    },
    {
      "cell_type": "markdown",
      "metadata": {
        "id": "p4_Mi5u5z_0T"
      },
      "source": [
        "### Default Dictionary\n",
        "\n",
        "A defaultdict works exactly like a normal dict, but it is initialized with a function (“default factory”) that takes no arguments and provides the default value for a nonexistent key.\n",
        "\n",
        "A defaultdict will never raise a KeyError. Any key that does not exist gets the value returned by the default factory. For example consider the following example with the default value as 'Vanilla'. \n",
        "\n",
        "**Note : ** Since default dictionary takes a function as argument, be sure to pass the function object to defaultdict(). Do not call the function.\n",
        "    - Correct   :  defaultdict(func)\n",
        "    - Incorrect :  defaultdict(func())."
      ]
    },
    {
      "cell_type": "code",
      "execution_count": null,
      "metadata": {
        "id": "Y0iSrRrzz_0U",
        "outputId": "0889ea54-80a7-4436-b60e-9879d2c5a6ba"
      },
      "outputs": [
        {
          "name": "stdout",
          "output_type": "stream",
          "text": [
            "Chunky Monkey\n",
            "Vanilla\n"
          ]
        }
      ],
      "source": [
        "from collections import defaultdict\n",
        "# A function providing default values\n",
        "def values():\n",
        "    return 'Vanilla'\n",
        "\n",
        "# Making an object of the default diictionary with the function defined ablove\n",
        "ice_cream = defaultdict(values)\n",
        "\n",
        "# assigning values with keys\n",
        "ice_cream['Sarah'] = 'Chunky Monkey'\n",
        "ice_cream['Abdul'] = 'Butter Pecan'\n",
        "ice_cream[\"Ahmad\"]\n",
        "# accessing the value of a key that exists\n",
        "print (ice_cream['Sarah'])\n",
        "\n",
        "# accessing the value of a key that do not exists, will print default value\n",
        "print (ice_cream['Joe'])"
      ]
    },
    {
      "cell_type": "markdown",
      "metadata": {
        "id": "v-TIZcICz_0U"
      },
      "source": [
        "## Control Flow"
      ]
    },
    {
      "cell_type": "markdown",
      "metadata": {
        "id": "iCiqH5w0z_0V"
      },
      "source": [
        "### Conditional statements: if, elif, else"
      ]
    },
    {
      "cell_type": "markdown",
      "metadata": {
        "id": "GP0NJmm7z_0V"
      },
      "source": [
        "The Python syntax for conditional execution of code uses the keywords `if`, `elif` (else if), `else`:"
      ]
    },
    {
      "cell_type": "code",
      "execution_count": null,
      "metadata": {
        "id": "NXmDFJY_z_0V",
        "outputId": "bdcc9c72-ca5a-4539-cadb-441cc09397b7"
      },
      "outputs": [
        {
          "name": "stdout",
          "output_type": "stream",
          "text": [
            "statement1 and statement2 are False\n"
          ]
        }
      ],
      "source": [
        "statement1 = False\n",
        "statement2 = False\n",
        "\n",
        "if statement1:\n",
        "    print (\"statement1 is True\")\n",
        "    \n",
        "elif statement2:\n",
        "    print (\"statement2 is True\")\n",
        "    \n",
        "else:\n",
        "    print (\"statement1 and statement2 are False\")"
      ]
    },
    {
      "cell_type": "markdown",
      "metadata": {
        "id": "GVmo93N7z_0W"
      },
      "source": [
        "For the first time, here we encounted a peculiar and unusual aspect of the Python programming language: Program blocks are defined by their indentation level. \n",
        "\n",
        "Compare to the equivalent C code:\n",
        "``` c\n",
        "if (statement1)\n",
        "{\n",
        "    printf(\"statement1 is True\\n\");\n",
        "}\n",
        "else if (statement2)\n",
        "{\n",
        "    printf(\"statement2 is True\\n\");\n",
        "}\n",
        "else\n",
        "{\n",
        "    printf(\"statement1 and statement2 are False\\n\");\n",
        "}\n",
        "```\n",
        "In C blocks are defined by the enclosing curly brakets `{` and `}`. And the level of indentation (white space before the code statements) does not matter (completely optional). \n",
        "\n",
        "But in Python, the extent of a code block is defined by the indentation level (usually a tab or say four white spaces). This means that we have to be careful to indent our code correctly, or else we will get syntax errors. "
      ]
    },
    {
      "cell_type": "markdown",
      "metadata": {
        "id": "Z3YIVnfQz_0W"
      },
      "source": [
        "#### Examples:"
      ]
    },
    {
      "cell_type": "code",
      "execution_count": null,
      "metadata": {
        "id": "UtomHnQUz_0X",
        "outputId": "695bdff5-d49e-4bf7-d284-f4aa3df0098d"
      },
      "outputs": [
        {
          "name": "stdout",
          "output_type": "stream",
          "text": [
            "both statement1 and statement2 are True\n"
          ]
        }
      ],
      "source": [
        "statement1 = statement2 = True\n",
        "\n",
        "if statement1:\n",
        "    if statement2:\n",
        "        print (\"both statement1 and statement2 are True\")"
      ]
    },
    {
      "cell_type": "code",
      "execution_count": null,
      "metadata": {
        "id": "Vkmyg4P_z_0X"
      },
      "outputs": [],
      "source": [
        "statement1 = False\n",
        "\n",
        "if statement1:\n",
        "    print (\"printed if statement1 is True\")\n",
        "    \n",
        "    print (\"still inside the if block\")"
      ]
    },
    {
      "cell_type": "code",
      "execution_count": null,
      "metadata": {
        "id": "_flhWw2Kz_0X"
      },
      "outputs": [],
      "source": [
        "if statement1:\n",
        "    print (\"printed if statement1 is True\")\n",
        "    \n",
        "print (\"now outside the if block\")"
      ]
    },
    {
      "cell_type": "markdown",
      "metadata": {
        "id": "nIVNbGApz_0Y"
      },
      "source": [
        "## Loops"
      ]
    },
    {
      "cell_type": "markdown",
      "metadata": {
        "id": "4t92oakrz_0Y"
      },
      "source": [
        "In Python, loops can be programmed in a number of different ways. The most common is the `for` loop, which is used together with iterable objects, such as lists. The basic syntax is:"
      ]
    },
    {
      "cell_type": "markdown",
      "metadata": {
        "id": "GshWgAYBz_0Y"
      },
      "source": [
        "### **`for` loops**:"
      ]
    },
    {
      "cell_type": "code",
      "execution_count": null,
      "metadata": {
        "id": "8NVNEuKMz_0Y",
        "outputId": "9f6e8080-18fd-435b-bb73-0addd01e5afe"
      },
      "outputs": [
        {
          "name": "stdout",
          "output_type": "stream",
          "text": [
            "1\n",
            "2\n",
            "3\n"
          ]
        }
      ],
      "source": [
        "for x in [1,2,3]:\n",
        "    print (x)"
      ]
    },
    {
      "cell_type": "markdown",
      "metadata": {
        "id": "9JwIUkU6z_0Z"
      },
      "source": [
        "The `for` loop iterates over the elements of the supplied list, and executes the containing block once for each element. Any kind of list can be used in the `for` loop. For example:"
      ]
    },
    {
      "cell_type": "code",
      "execution_count": null,
      "metadata": {
        "id": "eTN2N97Jz_0Z",
        "outputId": "28026459-f7df-42cd-f818-bf6557ef3d43"
      },
      "outputs": [
        {
          "name": "stdout",
          "output_type": "stream",
          "text": [
            "0\n",
            "1\n",
            "2\n",
            "3\n"
          ]
        }
      ],
      "source": [
        "for x in range(4): # by default range start at 0\n",
        "    print (x) "
      ]
    },
    {
      "cell_type": "markdown",
      "metadata": {
        "id": "5vorwKYMz_0a"
      },
      "source": [
        "Note: `range(4)` does not include 4 !"
      ]
    },
    {
      "cell_type": "code",
      "execution_count": null,
      "metadata": {
        "id": "74e6w88Uz_0a",
        "outputId": "1d679201-d9e4-4529-b0af-c362f8bacb7c"
      },
      "outputs": [
        {
          "name": "stdout",
          "output_type": "stream",
          "text": [
            "-3\n",
            "-2\n",
            "-1\n",
            "0\n",
            "1\n",
            "2\n"
          ]
        }
      ],
      "source": [
        "for x in range(-3,3):\n",
        "    print (x)"
      ]
    },
    {
      "cell_type": "code",
      "execution_count": null,
      "metadata": {
        "id": "2WD_1XLsz_0a",
        "outputId": "852b308d-0f24-4247-98fa-5e9ee79a15a0"
      },
      "outputs": [
        {
          "name": "stdout",
          "output_type": "stream",
          "text": [
            "scientific\n",
            "computing\n",
            "with\n",
            "python\n"
          ]
        }
      ],
      "source": [
        "for word in [\"scientific\", \"computing\", \"with\", \"python\"]:\n",
        "    print (word)"
      ]
    },
    {
      "cell_type": "markdown",
      "metadata": {
        "id": "i4owZRSBz_0b"
      },
      "source": [
        "To iterate over key-value pairs of a dictionary:"
      ]
    },
    {
      "cell_type": "code",
      "execution_count": null,
      "metadata": {
        "id": "FZtu-sxYz_0b",
        "outputId": "c011e7d2-cc08-47bf-d2e7-d6493cfff7f6"
      },
      "outputs": [
        {
          "name": "stdout",
          "output_type": "stream",
          "text": [
            "parameter4 = D\n",
            "parameter1 = A\n",
            "parameter3 = 3.0\n",
            "parameter2 = B\n"
          ]
        }
      ],
      "source": [
        "for key, value in params.items():\n",
        "    print (key + \" = \" + str(value))"
      ]
    },
    {
      "cell_type": "markdown",
      "metadata": {
        "id": "vVqryao1z_0b"
      },
      "source": [
        "Sometimes it is useful to have access to the indices of the values when iterating over a list. We can use the `enumerate` function for this:"
      ]
    },
    {
      "cell_type": "code",
      "execution_count": null,
      "metadata": {
        "id": "pcYK6CMVz_0b",
        "outputId": "568ed950-0585-4e74-9a66-2ac44ced485a"
      },
      "outputs": [
        {
          "name": "stdout",
          "output_type": "stream",
          "text": [
            "0 -3\n",
            "1 -2\n",
            "2 -1\n",
            "3 0\n",
            "4 1\n",
            "5 2\n"
          ]
        }
      ],
      "source": [
        "for idx, x in enumerate(range(-3,3)):\n",
        "    print (idx, x)"
      ]
    },
    {
      "cell_type": "markdown",
      "metadata": {
        "id": "B6m59ra2z_0b"
      },
      "source": [
        "### List comprehensions: Creating lists using `for` loops:"
      ]
    },
    {
      "cell_type": "markdown",
      "metadata": {
        "id": "zboqdlQUz_0c"
      },
      "source": [
        "A convenient and compact way to initialize lists:"
      ]
    },
    {
      "cell_type": "code",
      "execution_count": null,
      "metadata": {
        "id": "VAlTOLz4z_0c",
        "outputId": "bb905554-0e91-4892-c961-c37a0c57ee23"
      },
      "outputs": [
        {
          "name": "stdout",
          "output_type": "stream",
          "text": [
            "[0, 1, 4, 9, 16]\n"
          ]
        }
      ],
      "source": [
        "l1 = [x**2 for x in range(0,5)]\n",
        "\n",
        "print (l1)"
      ]
    },
    {
      "cell_type": "markdown",
      "metadata": {
        "id": "qPxDLXvWz_0c"
      },
      "source": [
        "### `while` loops:"
      ]
    },
    {
      "cell_type": "code",
      "execution_count": null,
      "metadata": {
        "id": "gG-T185mz_0c",
        "outputId": "81a988d6-c623-438c-986c-5983082fe5e8"
      },
      "outputs": [
        {
          "name": "stdout",
          "output_type": "stream",
          "text": [
            "0\n",
            "1\n",
            "2\n",
            "3\n",
            "4\n",
            "done\n"
          ]
        }
      ],
      "source": [
        "i = 0\n",
        "\n",
        "while i < 5:\n",
        "    print(i)\n",
        "    \n",
        "    i = i + 1\n",
        "    \n",
        "print (\"done\")"
      ]
    },
    {
      "cell_type": "markdown",
      "metadata": {
        "id": "wUweTFQWz_0d"
      },
      "source": [
        "Note that the `print(\"done\")` statement is not part of the `while` loop body because of the difference in indentation."
      ]
    },
    {
      "cell_type": "markdown",
      "metadata": {
        "id": "gaUk1JPUz_0d"
      },
      "source": [
        "## Functions"
      ]
    },
    {
      "cell_type": "markdown",
      "metadata": {
        "id": "6z4WIaF7z_0e"
      },
      "source": [
        "A function in Python is defined using the keyword `def`, followed by a function name, a signature within parentheses `()`, and a colon `:`. The following code, with one additional level of indentation, is the function body."
      ]
    },
    {
      "cell_type": "code",
      "execution_count": null,
      "metadata": {
        "id": "RwV4SkOHz_0e"
      },
      "outputs": [],
      "source": [
        "def func0():   \n",
        "    print \"test\""
      ]
    },
    {
      "cell_type": "code",
      "execution_count": null,
      "metadata": {
        "id": "cH99s_6dz_0e",
        "outputId": "309b37c6-338d-4bed-c6fb-a641c9104fb1"
      },
      "outputs": [
        {
          "name": "stdout",
          "output_type": "stream",
          "text": [
            "test\n"
          ]
        }
      ],
      "source": [
        "func0()"
      ]
    },
    {
      "cell_type": "markdown",
      "metadata": {
        "id": "OtMm3cqFz_0e"
      },
      "source": [
        "Optionally, but highly recommended, we can define a so called \"docstring\", which is a description of the functions purpose and behaivor. The docstring should follow directly after the function definition, before the code in the function body."
      ]
    },
    {
      "cell_type": "code",
      "execution_count": null,
      "metadata": {
        "id": "jKX0JdIOz_0f"
      },
      "outputs": [],
      "source": [
        "def func1(s):\n",
        "    \"\"\"\n",
        "    Print a string 's' and tell how many characters it has    \n",
        "    \"\"\"\n",
        "    \n",
        "    print s + \" has \" + str(len(s)) + \" characters\""
      ]
    },
    {
      "cell_type": "code",
      "execution_count": null,
      "metadata": {
        "id": "1w4HvGRfz_0f",
        "outputId": "b5c4da61-5576-439c-ab21-1ae6ed676a39"
      },
      "outputs": [
        {
          "name": "stdout",
          "output_type": "stream",
          "text": [
            "Help on function func1 in module __main__:\n",
            "\n",
            "func1(s)\n",
            "    Print a string 's' and tell how many characters it has\n",
            "\n"
          ]
        }
      ],
      "source": [
        "help(func1)"
      ]
    },
    {
      "cell_type": "code",
      "execution_count": null,
      "metadata": {
        "id": "F-5eV08Qz_0f"
      },
      "outputs": [],
      "source": [
        "func1(\"test\")"
      ]
    },
    {
      "cell_type": "markdown",
      "metadata": {
        "id": "6ACs96uJz_0f"
      },
      "source": [
        "Functions that returns a value use the `return` keyword:"
      ]
    },
    {
      "cell_type": "code",
      "execution_count": null,
      "metadata": {
        "id": "eoI8Uinzz_0f"
      },
      "outputs": [],
      "source": [
        "def square(x):\n",
        "    \"\"\"\n",
        "    Return the square of x.\n",
        "    \"\"\"\n",
        "    return x ** 2"
      ]
    },
    {
      "cell_type": "code",
      "execution_count": null,
      "metadata": {
        "id": "NRK6K9TWz_0f",
        "outputId": "3dc8d78d-86cd-497a-b941-10a5827d54a8"
      },
      "outputs": [
        {
          "name": "stdout",
          "output_type": "stream",
          "text": [
            "16\n"
          ]
        }
      ],
      "source": [
        "print square(4)"
      ]
    },
    {
      "cell_type": "markdown",
      "metadata": {
        "id": "DA-7ZQfmz_0f"
      },
      "source": [
        "We can return multiple values from a function using tuples (see above):"
      ]
    },
    {
      "cell_type": "code",
      "execution_count": null,
      "metadata": {
        "id": "8h-Xpy0az_0g"
      },
      "outputs": [],
      "source": [
        "def powers(x):\n",
        "    \"\"\"\n",
        "    Return a few powers of x\n",
        "    \"\"\"\n",
        "    return x ** 2, x ** 3, x ** 4"
      ]
    },
    {
      "cell_type": "code",
      "execution_count": null,
      "metadata": {
        "id": "UbXZJapjz_0g",
        "outputId": "e8b57d1c-5a4b-4e99-ac7f-c98285695f0c"
      },
      "outputs": [
        {
          "name": "stdout",
          "output_type": "stream",
          "text": [
            "(9, 27, 81)\n"
          ]
        }
      ],
      "source": [
        "print powers(3)"
      ]
    },
    {
      "cell_type": "code",
      "execution_count": null,
      "metadata": {
        "id": "4ON96-nuz_0g",
        "outputId": "62e90630-2da2-4bd0-8bdf-410e916b66db"
      },
      "outputs": [
        {
          "name": "stdout",
          "output_type": "stream",
          "text": [
            "16\n"
          ]
        }
      ],
      "source": [
        "x2, x3, x4 = powers(3)\n",
        "\n",
        "print x4"
      ]
    },
    {
      "cell_type": "markdown",
      "metadata": {
        "id": "sXGhk3MTz_0g"
      },
      "source": [
        "### Default argument and keyword arguments"
      ]
    },
    {
      "cell_type": "markdown",
      "metadata": {
        "id": "HuqptKfUz_0g"
      },
      "source": [
        "In a definition of a function, we can give default values to the arguments the function takes:"
      ]
    },
    {
      "cell_type": "code",
      "execution_count": null,
      "metadata": {
        "id": "RlNuPYNBz_0g"
      },
      "outputs": [],
      "source": [
        "def myfunc(x, p=2, debug=False):\n",
        "    if debug:\n",
        "        print \"evaluating myfunc for x = \" + str(x) + \" using exponent p = \" + str(p)\n",
        "    return x**p"
      ]
    },
    {
      "cell_type": "markdown",
      "metadata": {
        "id": "gLaXIoyzz_0g"
      },
      "source": [
        "If we don't provide a value of the `debug` argument when calling the the function `myfunc` it defaults to the value provided in the function definition:"
      ]
    },
    {
      "cell_type": "code",
      "execution_count": null,
      "metadata": {
        "id": "WSvg0Yixz_0g",
        "outputId": "d631f9ca-a14f-4ab5-d2c2-0ac4232c9ff5"
      },
      "outputs": [
        {
          "name": "stdout",
          "output_type": "stream",
          "text": [
            "25\n"
          ]
        }
      ],
      "source": [
        "print myfunc(5)"
      ]
    },
    {
      "cell_type": "code",
      "execution_count": null,
      "metadata": {
        "id": "rZrt8hGfz_0h",
        "outputId": "3a32a019-31c2-4abe-d0f6-0a914dda857a"
      },
      "outputs": [
        {
          "name": "stdout",
          "output_type": "stream",
          "text": [
            "evaluating myfunc for x = 5 using exponent p = 2\n",
            "25\n"
          ]
        }
      ],
      "source": [
        "print myfunc(5, debug=True)"
      ]
    },
    {
      "cell_type": "markdown",
      "metadata": {
        "id": "b0YAwIy8z_0h"
      },
      "source": [
        "If we explicitly list the name of the arguments in the function calls, they do not need to come in the same order as in the function definition. This is called *keyword* arguments, and is often very useful in functions that takes a lot of optional arguments."
      ]
    },
    {
      "cell_type": "code",
      "execution_count": null,
      "metadata": {
        "id": "qtBSaNe-z_0h",
        "outputId": "829c08c9-794d-44e7-cf4f-3abc7718301b"
      },
      "outputs": [
        {
          "name": "stdout",
          "output_type": "stream",
          "text": [
            "evaluating myfunc for x = 7 using exponent p = 3\n",
            "343\n"
          ]
        }
      ],
      "source": [
        "print myfunc(\n",
        "    p=3, debug=True, x=7)"
      ]
    },
    {
      "cell_type": "markdown",
      "metadata": {
        "id": "z7iJf7haz_0h"
      },
      "source": [
        "### Unnamed functions (lambda function)"
      ]
    },
    {
      "cell_type": "markdown",
      "metadata": {
        "id": "l5WckUP3z_0h"
      },
      "source": [
        "In Python we can also create unnamed functions, using the `lambda` keyword:"
      ]
    },
    {
      "cell_type": "code",
      "execution_count": null,
      "metadata": {
        "id": "lgRiCQ4Lz_0h"
      },
      "outputs": [],
      "source": [
        "f1 = lambda x: x**2\n",
        "    \n",
        "# is equivalent to \n",
        "\n",
        "def f2(x):\n",
        "    return x**2"
      ]
    },
    {
      "cell_type": "code",
      "execution_count": null,
      "metadata": {
        "id": "M8ZCdmObz_0h",
        "outputId": "b0255bb6-32b7-4441-e329-40cb98c55796"
      },
      "outputs": [
        {
          "name": "stdout",
          "output_type": "stream",
          "text": [
            "4 16\n"
          ]
        }
      ],
      "source": [
        "print (f1(2), f2(f1(2)))"
      ]
    },
    {
      "cell_type": "markdown",
      "metadata": {
        "id": "b-8qDhH6z_0i"
      },
      "source": [
        "This technique is useful for example when we want to pass a simple function as an argument to another function, like this:"
      ]
    },
    {
      "cell_type": "code",
      "execution_count": null,
      "metadata": {
        "id": "ocMYib75z_0i",
        "outputId": "423483b7-0e51-42fd-828c-ef2c71093c0d"
      },
      "outputs": [
        {
          "name": "stdout",
          "output_type": "stream",
          "text": [
            "[9, 4, 1, 0, 1, 4, 9]\n"
          ]
        }
      ],
      "source": [
        "# map is a built-in python function\n",
        "print map(lambda x: x**2, range(-3,4))"
      ]
    },
    {
      "cell_type": "code",
      "execution_count": null,
      "metadata": {
        "id": "V1ezNp3Gz_0i",
        "outputId": "3012a328-ab87-4912-ff79-194ac35caa94"
      },
      "outputs": [
        {
          "name": "stdout",
          "output_type": "stream",
          "text": [
            "[9, 4, 1, 0, 1, 4, 9]\n"
          ]
        }
      ],
      "source": [
        "# in python 3 we can use `list(...)` to convert the iterator to an explicit list\n",
        "print list(map(lambda x: x**2, range(-3,4)))"
      ]
    },
    {
      "cell_type": "markdown",
      "metadata": {
        "id": "WQprw0s1z_0i"
      },
      "source": [
        "## Classes"
      ]
    },
    {
      "cell_type": "markdown",
      "metadata": {
        "id": "qa8FoOrtz_0i"
      },
      "source": [
        "Classes are the key features of object-oriented programming. A class is a structure for representing an object and the operations that can be performed on the object. \n",
        "\n",
        "In Python a class can contain *attributes* (variables) and *methods* (functions).\n",
        "\n",
        "A class is defined almost like a function, but using the `class` keyword, and the class definition usually contains a number of class method definitions (a function in a class).\n",
        "\n",
        "* Each class method should have an argument `self` as its first argument. This object is a self-reference.\n",
        "\n",
        "* Some class method names have special meaning, for example:\n",
        "\n",
        "    * `__init__`: The name of the method that is invoked when the object is first created.\n",
        "    * `__str__` : A method that is invoked when a simple string representation of the class is needed, as for example when printed.\n",
        "    * There are many more, see http://docs.python.org/2/reference/datamodel.html#special-method-names"
      ]
    },
    {
      "cell_type": "code",
      "execution_count": null,
      "metadata": {
        "id": "h1c6v9RUz_0i"
      },
      "outputs": [],
      "source": [
        "class Point:\n",
        "    \"\"\"\n",
        "    Simple class for representing a point in a Cartesian coordinate system.\n",
        "    \"\"\"\n",
        "    \n",
        "    def __init__(self, x, y):\n",
        "        \"\"\"\n",
        "        Create a new Point at x, y.\n",
        "        \"\"\"\n",
        "        self.x = x\n",
        "        self.y = y\n",
        "        \n",
        "    def translate(self, dx, dy):\n",
        "        \"\"\"\n",
        "        Translate the point by dx and dy in the x and y direction.\n",
        "        \"\"\"\n",
        "        self.x += dx\n",
        "        self.y += dy\n",
        "        \n",
        "    def __str__(self):\n",
        "        return(\"Point at [%f, %f]\" % (self.x, self.y))"
      ]
    },
    {
      "cell_type": "markdown",
      "metadata": {
        "id": "pXHq1uCez_0i"
      },
      "source": [
        "To create a new instance of a class:"
      ]
    },
    {
      "cell_type": "code",
      "execution_count": null,
      "metadata": {
        "id": "UVRBNqoPz_0i",
        "outputId": "cc393ceb-19e8-461d-917a-d83a354d50a8"
      },
      "outputs": [
        {
          "name": "stdout",
          "output_type": "stream",
          "text": [
            "Point at [0.000000, 0.000000]\n"
          ]
        }
      ],
      "source": [
        "p1 = Point(0, 0) # this will invoke the __init__ method in the Point class\n",
        "\n",
        "print p1         # this will invoke the __str__ method"
      ]
    },
    {
      "cell_type": "markdown",
      "metadata": {
        "id": "3Sc66DXOz_0j"
      },
      "source": [
        "To invoke a class method in the class instance `p`:"
      ]
    },
    {
      "cell_type": "code",
      "execution_count": null,
      "metadata": {
        "id": "QiFQQuysz_0j",
        "outputId": "78d110c1-a60f-41ef-ef51-c2a8b92b541b"
      },
      "outputs": [
        {
          "name": "stdout",
          "output_type": "stream",
          "text": [
            "Point at [0.250000, 1.500000]\n",
            "Point at [1.000000, 1.000000]\n"
          ]
        }
      ],
      "source": [
        "p2 = Point(1, 1)\n",
        "\n",
        "p1.translate(0.25, 1.5)\n",
        "\n",
        "print p1\n",
        "print p2"
      ]
    },
    {
      "cell_type": "markdown",
      "metadata": {
        "id": "jzLrhOUwz_0j"
      },
      "source": [
        "Note that calling class methods can modifiy the state of that particular class instance, but does not effect other class instances or any global variables.\n",
        "\n",
        "That is one of the nice things about object-oriented design: code such as functions and related variables are grouped in separate and independent entities. "
      ]
    },
    {
      "cell_type": "markdown",
      "metadata": {
        "id": "SnjAaq5cz_0j"
      },
      "source": [
        "## Modules"
      ]
    },
    {
      "cell_type": "markdown",
      "metadata": {
        "id": "YCSEMxaMz_0j"
      },
      "source": [
        "One of the most important concepts in good programming is to reuse code and avoid repetitions.\n",
        "\n",
        "The idea is to write functions and classes with a well-defined purpose and scope, and reuse these instead of repeating similar code in different part of a program (modular programming). The result is usually that readability and maintainability of a program is greatly improved. What this means in practice is that our programs have fewer bugs, are easier to extend and debug/troubleshoot. \n",
        "\n",
        "Python supports modular programming at different levels. Functions and classes are examples of tools for low-level modular programming. Python modules are a higher-level modular programming construct, where we can collect related variables, functions and classes in a module. A python module is defined in a python file (with file-ending `.py`), and it can be made accessible to other Python modules and programs using the `import` statement. \n",
        "\n",
        "Consider the following example: the file `mymodule.py` contains simple example implementations of a variable, function and a class:"
      ]
    },
    {
      "cell_type": "code",
      "execution_count": null,
      "metadata": {
        "id": "lNVTXzsIz_0j"
      },
      "outputs": [],
      "source": [
        "%%file mymodule.py\n",
        "\"\"\"\n",
        "Example of a python module. Contains a variable called my_variable,\n",
        "a function called my_function, and a class called MyClass.\n",
        "\"\"\"\n",
        "\n",
        "my_variable = 0\n",
        "\n",
        "def my_function():\n",
        "    \"\"\"\n",
        "    Example function\n",
        "    \"\"\"\n",
        "    return my_variable\n",
        "    \n",
        "class MyClass:\n",
        "    \"\"\"\n",
        "    Example class.\n",
        "    \"\"\"\n",
        "\n",
        "    def __init__(self):\n",
        "        self.variable = my_variable\n",
        "        \n",
        "    def set_variable(self, new_value):\n",
        "        \"\"\"\n",
        "        Set self.variable to a new value\n",
        "        \"\"\"\n",
        "        self.variable = new_value\n",
        "        \n",
        "    def get_variable(self):\n",
        "        return self.variable"
      ]
    },
    {
      "cell_type": "markdown",
      "metadata": {
        "id": "XWaNeBaAz_0k"
      },
      "source": [
        "To use a module in a Python program it first has to be imported. A module can be imported using the `import` statement. For example, to import the module `math`, which contains many standard mathematical functions, we can do:"
      ]
    },
    {
      "cell_type": "code",
      "execution_count": null,
      "metadata": {
        "id": "D_6t5iFEz_0k"
      },
      "outputs": [],
      "source": [
        "import math"
      ]
    },
    {
      "cell_type": "markdown",
      "metadata": {
        "id": "A8X12YZpz_0k"
      },
      "source": [
        "This includes the whole module and makes it available for use later in the program. For example, we can do:"
      ]
    },
    {
      "cell_type": "code",
      "execution_count": null,
      "metadata": {
        "id": "FIOLQDmmz_0k"
      },
      "outputs": [],
      "source": [
        "import math\n",
        "\n",
        "x = math.cos(2 * math.pi)\n",
        "\n",
        "print x"
      ]
    },
    {
      "cell_type": "markdown",
      "metadata": {
        "id": "fojpIxnaz_0k"
      },
      "source": [
        "Alternatively, we can chose to import all symbols (functions and variables) in a module to the current namespace (so that we don't need to use the prefix \"`math.`\" every time we use something from the `math` module:"
      ]
    },
    {
      "cell_type": "code",
      "execution_count": null,
      "metadata": {
        "id": "Y8JX7x7tz_0k"
      },
      "outputs": [],
      "source": [
        "from math import *\n",
        "\n",
        "x = cos(2 * pi)\n",
        "\n",
        "print x"
      ]
    },
    {
      "cell_type": "markdown",
      "metadata": {
        "id": "tqRDE7cyz_0k"
      },
      "source": [
        "This pattern can be very convenient, but in large programs that include many modules it is often a good idea to keep the symbols from each module in their own namespaces, by using the `import math` pattern. This would elminate potentially confusing problems with name space collisions.\n",
        "\n",
        "As a third alternative, we can chose to import only a few selected symbols from a module by explicitly listing which ones we want to import instead of using the wildcard character `*`:"
      ]
    },
    {
      "cell_type": "code",
      "execution_count": null,
      "metadata": {
        "id": "oatD0S_6z_0k"
      },
      "outputs": [],
      "source": [
        "from math import cos, pi\n",
        "\n",
        "x = cos(2 * pi)\n",
        "\n",
        "print x"
      ]
    },
    {
      "cell_type": "markdown",
      "metadata": {
        "id": "9D4gx1qGz_0k"
      },
      "source": [
        "Use `help(module)` to get a summary of what the module provides:"
      ]
    },
    {
      "cell_type": "code",
      "execution_count": null,
      "metadata": {
        "id": "6Abs9rP7z_0l"
      },
      "outputs": [],
      "source": [
        "import mymodule\n",
        "help(mymodule)"
      ]
    },
    {
      "cell_type": "code",
      "execution_count": null,
      "metadata": {
        "id": "DLQh7QO1z_0l"
      },
      "outputs": [],
      "source": [
        "print mymodule.my_variable"
      ]
    },
    {
      "cell_type": "code",
      "execution_count": null,
      "metadata": {
        "id": "ejYvmxKqz_0l"
      },
      "outputs": [],
      "source": [
        "print mymodule.my_function() "
      ]
    },
    {
      "cell_type": "code",
      "execution_count": null,
      "metadata": {
        "id": "t1CVgGs8z_0l"
      },
      "outputs": [],
      "source": [
        "my_class = mymodule.MyClass() \n",
        "my_class.set_variable(10)\n",
        "print my_class.get_variable()"
      ]
    },
    {
      "cell_type": "markdown",
      "metadata": {
        "id": "BoX-7mYaz_0l"
      },
      "source": [
        "If we make changes to the code in `mymodule.py`, we need to reload it using `reload`:"
      ]
    },
    {
      "cell_type": "code",
      "execution_count": null,
      "metadata": {
        "id": "IuNEEpHjz_0l"
      },
      "outputs": [],
      "source": [
        "reload(mymodule)  # works only in python 2"
      ]
    },
    {
      "cell_type": "markdown",
      "metadata": {
        "id": "FT1sutbrz_0l"
      },
      "source": [
        "Once a module is imported, we can list the symbols it provides using the `dir` function:"
      ]
    },
    {
      "cell_type": "code",
      "execution_count": null,
      "metadata": {
        "id": "PHNSSQFfz_0l"
      },
      "outputs": [],
      "source": [
        "import math\n",
        "\n",
        "print dir(math)"
      ]
    },
    {
      "cell_type": "markdown",
      "metadata": {
        "id": "TBPiWUFQz_0l"
      },
      "source": [
        "And using the function `help` we can get a description of each function (almost .. not all functions have docstrings, as they are technically called, but the vast majority of functions are documented this way). "
      ]
    },
    {
      "cell_type": "code",
      "execution_count": null,
      "metadata": {
        "id": "wCAh00yez_0m"
      },
      "outputs": [],
      "source": [
        "help(math.log)"
      ]
    },
    {
      "cell_type": "markdown",
      "metadata": {
        "id": "BI5f8D9Gz_0m"
      },
      "source": [
        "## File I/O"
      ]
    },
    {
      "cell_type": "code",
      "execution_count": null,
      "metadata": {
        "id": "jqZxWL0Az_0m",
        "outputId": "16adf59c-b793-4f0e-8ad8-452fa1410f23"
      },
      "outputs": [
        {
          "name": "stdout",
          "output_type": "stream",
          "text": [
            "['Hello Data Science', 'boot ', 'camp', '', 'Welcome !!!']\n"
          ]
        }
      ],
      "source": [
        "file = open('./one.txt','r')\n",
        "lines=file.read().splitlines()\n",
        "print lines"
      ]
    },
    {
      "cell_type": "markdown",
      "metadata": {
        "id": "yi2905HKz_0n"
      },
      "source": [
        "## Exceptions"
      ]
    },
    {
      "cell_type": "markdown",
      "metadata": {
        "id": "Bw9c4N61z_0n"
      },
      "source": [
        "In Python errors are managed with a special language construct called \"Exceptions\". When errors occur exceptions can be raised, which interrupts the normal program flow and fallback to somewhere else in the code where the closest try-except statement is defined."
      ]
    },
    {
      "cell_type": "markdown",
      "metadata": {
        "id": "jqEfapU_z_0n"
      },
      "source": [
        "To generate an exception we can use the `raise` statement, which takes an argument that must be an instance of the class `BaseException` or a class derived from it. "
      ]
    },
    {
      "cell_type": "code",
      "execution_count": null,
      "metadata": {
        "id": "28K-mAoEz_0n"
      },
      "outputs": [],
      "source": [
        "raise Exception(\"description of the error\")"
      ]
    },
    {
      "cell_type": "markdown",
      "metadata": {
        "id": "RWo6ayjMz_0n"
      },
      "source": [
        "A typical use of exceptions is to abort functions when some error condition occurs, for example:\n",
        "\n",
        "    def my_function(arguments):\n",
        "    \n",
        "        if not verify(arguments):\n",
        "            raise Exception(\"Invalid arguments\")\n",
        "        \n",
        "        # rest of the code goes here"
      ]
    },
    {
      "cell_type": "markdown",
      "metadata": {
        "id": "ryW5_23Qz_0n"
      },
      "source": [
        "To gracefully catch errors that are generated by functions and class methods, or by the Python interpreter itself, use the `try` and  `except` statements:\n",
        "\n",
        "    try:\n",
        "        # normal code goes here\n",
        "    except:\n",
        "        # code for error handling goes here\n",
        "        # this code is not executed unless the code\n",
        "        # above generated an error\n",
        "\n",
        "For example:"
      ]
    },
    {
      "cell_type": "code",
      "execution_count": null,
      "metadata": {
        "id": "jfjSfAvFz_0o"
      },
      "outputs": [],
      "source": [
        "try:\n",
        "    print \"test\"\n",
        "    # generate an error: the variable test is not defined\n",
        "    print test\n",
        "except:\n",
        "    print \"Caught an exception\""
      ]
    },
    {
      "cell_type": "markdown",
      "metadata": {
        "id": "POxLt0n4z_0o"
      },
      "source": [
        "To get information about the error, we can access the `Exception` class instance that describes the exception by using for example:\n",
        "\n",
        "    except Exception as e:"
      ]
    },
    {
      "cell_type": "code",
      "execution_count": null,
      "metadata": {
        "id": "hFTnzFR7z_0o"
      },
      "outputs": [],
      "source": [
        "try:\n",
        "    print \"test\"\n",
        "    # generate an error: the variable test is not defined\n",
        "    print test\n",
        "except Exception as e:\n",
        "    print \"Caught an exception:\" + str(e)"
      ]
    },
    {
      "cell_type": "markdown",
      "metadata": {
        "id": "Yqfl2RiEz_0o"
      },
      "source": [
        "## Further reading"
      ]
    },
    {
      "cell_type": "markdown",
      "metadata": {
        "id": "NvweP3rIz_0o"
      },
      "source": [
        "* http://www.python.org - The official web page of the Python programming language.\n",
        "* http://www.python.org/dev/peps/pep-0008 - Style guide for Python programming. Highly recommended. \n",
        "* http://www.greenteapress.com/thinkpython/ - A free book on Python programming.\n",
        "* [Python Essential Reference](http://www.amazon.com/Python-Essential-Reference-4th-Edition/dp/0672329786) - A good reference book on Python programming."
      ]
    },
    {
      "cell_type": "code",
      "execution_count": null,
      "metadata": {
        "id": "fOr3D_bZz_0o",
        "outputId": "75aba200-5e14-4ec2-eae0-3d6f55574cf9"
      },
      "outputs": [
        {
          "data": {
            "text/plain": [
              "[0, 3, 6, 9]"
            ]
          },
          "execution_count": 6,
          "metadata": {},
          "output_type": "execute_result"
        }
      ],
      "source": [
        "x = list(range(10))\n",
        "y = x[::3]\n",
        "y"
      ]
    },
    {
      "cell_type": "code",
      "execution_count": null,
      "metadata": {
        "id": "q37_t2eJz_0o"
      },
      "outputs": [],
      "source": []
    },
    {
      "cell_type": "code",
      "execution_count": null,
      "metadata": {
        "id": "LrBny_btz_0o"
      },
      "outputs": [],
      "source": []
    },
    {
      "cell_type": "code",
      "execution_count": null,
      "metadata": {
        "id": "CfMJW65wz_0p"
      },
      "outputs": [],
      "source": []
    },
    {
      "cell_type": "code",
      "execution_count": null,
      "metadata": {
        "id": "0f-MjQ5tz_0p"
      },
      "outputs": [],
      "source": []
    },
    {
      "cell_type": "code",
      "execution_count": null,
      "metadata": {
        "id": "6xGgl1X1z_0p"
      },
      "outputs": [],
      "source": []
    },
    {
      "cell_type": "code",
      "execution_count": null,
      "metadata": {
        "id": "wScCq7Zlz_0p"
      },
      "outputs": [],
      "source": []
    },
    {
      "cell_type": "code",
      "execution_count": null,
      "metadata": {
        "id": "d5NkiOJhz_0p"
      },
      "outputs": [],
      "source": []
    },
    {
      "cell_type": "code",
      "execution_count": null,
      "metadata": {
        "id": "KzsmTqU8z_0p"
      },
      "outputs": [],
      "source": []
    },
    {
      "cell_type": "code",
      "execution_count": null,
      "metadata": {
        "id": "PvLSL0q2z_0r"
      },
      "outputs": [],
      "source": []
    },
    {
      "cell_type": "code",
      "execution_count": null,
      "metadata": {
        "id": "nrECdoQiz_0r"
      },
      "outputs": [],
      "source": []
    },
    {
      "cell_type": "code",
      "execution_count": null,
      "metadata": {
        "id": "xAAae5iIz_0s"
      },
      "outputs": [],
      "source": []
    },
    {
      "cell_type": "code",
      "execution_count": null,
      "metadata": {
        "id": "rArceiQYz_0s"
      },
      "outputs": [],
      "source": []
    },
    {
      "cell_type": "code",
      "execution_count": null,
      "metadata": {
        "id": "vW0TROa3z_0s"
      },
      "outputs": [],
      "source": []
    },
    {
      "cell_type": "code",
      "execution_count": null,
      "metadata": {
        "id": "zp_TjaBSz_0s"
      },
      "outputs": [],
      "source": []
    },
    {
      "cell_type": "code",
      "execution_count": null,
      "metadata": {
        "id": "73VtI_3Qz_0s"
      },
      "outputs": [],
      "source": []
    },
    {
      "cell_type": "code",
      "execution_count": null,
      "metadata": {
        "id": "PMCUZ_ONz_0s"
      },
      "outputs": [],
      "source": []
    },
    {
      "cell_type": "code",
      "execution_count": null,
      "metadata": {
        "id": "kRsVETQBz_0s"
      },
      "outputs": [],
      "source": []
    },
    {
      "cell_type": "code",
      "execution_count": null,
      "metadata": {
        "id": "YYU5j-nrz_0s"
      },
      "outputs": [],
      "source": [
        "#umair\n",
        "#i1234"
      ]
    },
    {
      "cell_type": "markdown",
      "metadata": {
        "id": "SonBax2Tz_0s"
      },
      "source": [
        "# Q1"
      ]
    },
    {
      "cell_type": "code",
      "execution_count": null,
      "metadata": {
        "id": "OVnOKPWJz_0s"
      },
      "outputs": [],
      "source": [
        "# solution"
      ]
    },
    {
      "cell_type": "markdown",
      "metadata": {
        "id": "PkfRleBlz_0s"
      },
      "source": [
        "# Q2"
      ]
    },
    {
      "cell_type": "code",
      "execution_count": null,
      "metadata": {
        "id": "AwqWTlYZz_0s",
        "outputId": "aff61de2-dca6-4034-e1fd-ebcb6ae95538"
      },
      "outputs": [
        {
          "name": "stdout",
          "output_type": "stream",
          "text": [
            "['Ali', 'is', 'name', 'My']\n"
          ]
        }
      ],
      "source": [
        "string = \"My name is Ali\"\n",
        "s = string.split()[::-1]\n",
        "print(s)"
      ]
    },
    {
      "cell_type": "code",
      "execution_count": null,
      "metadata": {
        "id": "SctEGB1tz_0t"
      },
      "outputs": [],
      "source": []
    },
    {
      "cell_type": "code",
      "execution_count": null,
      "metadata": {
        "id": "X_VhB-yiz_0t"
      },
      "outputs": [],
      "source": []
    }
  ],
  "metadata": {
    "anaconda-cloud": {},
    "kernelspec": {
      "display_name": "Python 3 (ipykernel)",
      "language": "python",
      "name": "python3"
    },
    "language_info": {
      "codemirror_mode": {
        "name": "ipython",
        "version": 3
      },
      "file_extension": ".py",
      "mimetype": "text/x-python",
      "name": "python",
      "nbconvert_exporter": "python",
      "pygments_lexer": "ipython3",
      "version": "3.9.7"
    },
    "colab": {
      "provenance": []
    }
  },
  "nbformat": 4,
  "nbformat_minor": 0
}