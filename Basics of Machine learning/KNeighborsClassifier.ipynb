{
  "nbformat": 4,
  "nbformat_minor": 0,
  "metadata": {
    "colab": {
      "provenance": []
    },
    "kernelspec": {
      "name": "python3",
      "display_name": "Python 3"
    },
    "language_info": {
      "name": "python"
    }
  },
  "cells": [
    {
      "cell_type": "code",
      "execution_count": null,
      "metadata": {
        "id": "Bn5xNT895m1P"
      },
      "outputs": [],
      "source": [
        "from tensorflow import keras\n",
        "import matplotlib.pyplot as plt"
      ]
    },
    {
      "cell_type": "code",
      "source": [
        "from sklearn.metrics import accuracy_score,confusion_matrix,classification_report\n",
        "import numpy as np"
      ],
      "metadata": {
        "id": "_GYAJfF_5nWw"
      },
      "execution_count": null,
      "outputs": []
    },
    {
      "cell_type": "code",
      "source": [
        "(x_train, y_train), (x_test, y_test) = keras.datasets.cifar10.load_data()"
      ],
      "metadata": {
        "colab": {
          "base_uri": "https://localhost:8080/"
        },
        "id": "oa8QRcl05qUj",
        "outputId": "3152ac66-67bd-4ab0-9c66-719c2ddd9c94"
      },
      "execution_count": null,
      "outputs": [
        {
          "output_type": "stream",
          "name": "stdout",
          "text": [
            "Downloading data from https://www.cs.toronto.edu/~kriz/cifar-10-python.tar.gz\n",
            "170498071/170498071 [==============================] - 3s 0us/step\n"
          ]
        }
      ]
    },
    {
      "cell_type": "code",
      "source": [
        "x_train.shape,x_test.shape"
      ],
      "metadata": {
        "colab": {
          "base_uri": "https://localhost:8080/"
        },
        "id": "4n5nSInu5s4N",
        "outputId": "ada387ea-1a48-488b-cbc2-c0986f62f16e"
      },
      "execution_count": null,
      "outputs": [
        {
          "output_type": "execute_result",
          "data": {
            "text/plain": [
              "((50000, 32, 32, 3), (10000, 32, 32, 3))"
            ]
          },
          "metadata": {},
          "execution_count": 4
        }
      ]
    },
    {
      "cell_type": "code",
      "source": [
        "x_train = x_train/255.0\n",
        "x_test = x_test/255.0"
      ],
      "metadata": {
        "id": "dHjs_aCl5uwK"
      },
      "execution_count": null,
      "outputs": []
    },
    {
      "cell_type": "code",
      "source": [
        "#sklearn expects i/p to be 2d array-model.fit(x_train,y_train)=>reshape to 2d array\n",
        "nsamples, nx, ny, nrgb = x_train.shape\n",
        "x_train2 = x_train.reshape((nsamples,nx*ny*nrgb))"
      ],
      "metadata": {
        "id": "Hcm8idJw5xIY"
      },
      "execution_count": null,
      "outputs": []
    },
    {
      "cell_type": "code",
      "source": [
        "#so,eventually,model.predict() should also be a 2d input\n",
        "nsamples, nx, ny, nrgb = x_test.shape\n",
        "x_test2 = x_test.reshape((nsamples,nx*ny*nrgb))"
      ],
      "metadata": {
        "id": "bgAKWzl553p0"
      },
      "execution_count": null,
      "outputs": []
    },
    {
      "cell_type": "code",
      "source": [
        "from sklearn.neighbors import KNeighborsClassifier"
      ],
      "metadata": {
        "id": "woPlm_Rz56QP"
      },
      "execution_count": null,
      "outputs": []
    },
    {
      "cell_type": "code",
      "source": [
        "knn=KNeighborsClassifier(n_neighbors=7)"
      ],
      "metadata": {
        "id": "t5-k7pKW59yC"
      },
      "execution_count": null,
      "outputs": []
    },
    {
      "cell_type": "code",
      "source": [
        "knn.fit(x_train2,y_train)"
      ],
      "metadata": {
        "colab": {
          "base_uri": "https://localhost:8080/"
        },
        "id": "5KHR2sL05_dT",
        "outputId": "f8d85700-6094-4452-ba7a-d92b9d99bbb9"
      },
      "execution_count": null,
      "outputs": [
        {
          "output_type": "stream",
          "name": "stderr",
          "text": [
            "/usr/local/lib/python3.8/dist-packages/sklearn/neighbors/_classification.py:198: DataConversionWarning: A column-vector y was passed when a 1d array was expected. Please change the shape of y to (n_samples,), for example using ravel().\n",
            "  return self._fit(X, y)\n"
          ]
        },
        {
          "output_type": "execute_result",
          "data": {
            "text/plain": [
              "KNeighborsClassifier(n_neighbors=7)"
            ]
          },
          "metadata": {},
          "execution_count": 10
        }
      ]
    },
    {
      "cell_type": "code",
      "source": [
        "y_pred_knn=knn.predict(x_test2)\n",
        "y_pred_knn"
      ],
      "metadata": {
        "colab": {
          "base_uri": "https://localhost:8080/"
        },
        "id": "kNmXRHOa6Bfk",
        "outputId": "553b121c-cdde-4b8f-9186-d230b41ff29c"
      },
      "execution_count": null,
      "outputs": [
        {
          "output_type": "execute_result",
          "data": {
            "text/plain": [
              "array([2, 8, 8, ..., 5, 6, 4], dtype=uint8)"
            ]
          },
          "metadata": {},
          "execution_count": 11
        }
      ]
    },
    {
      "cell_type": "code",
      "source": [
        "accuracy_score(y_pred_knn,y_test)\n",
        "print(classification_report(y_pred_knn,y_test))"
      ],
      "metadata": {
        "id": "Nfpxi_KP6Drq"
      },
      "execution_count": null,
      "outputs": []
    },
    {
      "cell_type": "code",
      "source": [
        "confusion_matrix(y_pred_knn,y_test)"
      ],
      "metadata": {
        "colab": {
          "base_uri": "https://localhost:8080/"
        },
        "id": "zQLpK3_66Fig",
        "outputId": "4ba0b60e-eb87-4bf7-b352-c31821b22989"
      },
      "execution_count": null,
      "outputs": [
        {
          "output_type": "execute_result",
          "data": {
            "text/plain": [
              "array([[518, 118, 110,  66,  60,  63,  22,  78, 112, 152],\n",
              "       [  7, 195,   2,   5,   0,   2,   1,   8,  10,  50],\n",
              "       [118, 124, 437, 243, 268, 225, 271, 185,  47,  95],\n",
              "       [ 12,  51,  50, 199,  33, 156,  56,  57,  34,  59],\n",
              "       [ 46, 173, 250, 214, 521, 201, 319, 294,  69, 135],\n",
              "       [  5,  32,  24, 102,  14, 204,  32,  60,  12,  19],\n",
              "       [ 30,  55,  65, 108,  44,  80, 265,  48,  14,  52],\n",
              "       [  5,   8,   7,  11,  11,  10,   1, 196,   7,  25],\n",
              "       [255, 223,  53,  51,  48,  53,  32,  68, 688, 278],\n",
              "       [  4,  21,   2,   1,   1,   6,   1,   6,   7, 135]])"
            ]
          },
          "metadata": {},
          "execution_count": 12
        }
      ]
    },
    {
      "cell_type": "code",
      "source": [],
      "metadata": {
        "id": "jG1Jx50p6HP1"
      },
      "execution_count": null,
      "outputs": []
    }
  ]
}